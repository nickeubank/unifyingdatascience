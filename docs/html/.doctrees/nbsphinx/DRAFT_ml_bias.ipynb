{
 "cells": [
  {
   "cell_type": "markdown",
   "metadata": {},
   "source": [
    "# Backwards Design"
   ]
  },
  {
   "cell_type": "markdown",
   "metadata": {},
   "source": [
    "Backwards Design is a way of developing an efficient strategy for completing a new data science project, and in my view it is one of the most important skills of a professional data scientist.\n",
    "\n",
    "If you don't have a lot of professional data science experience, it may not be obvious why this is an important skill, or even why I call it a \"skill.\" That's because most data science students' experience with project development comes from classroom exercises or sites like kaggle. These types of projects are excellent opportunities for learning, but it is usually the case that -- unbeknownst to the student -- these projects have been carefully tailored to have clearly defined goals, and they come with data sets that have been cleaned and filter to provide only relevant variables. This is usually done for good reasons -- the instructors design these exercises in a way that focuses student attention on the skills that they are trying to develop (like model selection or model interpretation). But as a result, students often come away with the impression that most of what data scientists do is work with statistical models.\n",
    "\n",
    "In reality, however, often the most important thing that a data scientist does is (a) develop and articulate a concrete, feasible objective of a data science project, and (b) develop a strategy for achieving that objective efficiently. And Backwards Design is one of the best ways to go about accomplishing both of these goals."
   ]
  },
  {
   "cell_type": "markdown",
   "metadata": {},
   "source": [
    "## Overview\n",
    "\n",
    "As the name implies, the idea Backwards Design is to *start* by clearly defining where you want to end up at the end of the project, and then working backwards to figure out exactly what you need to do to get there. Backwards Design is actually a common project management strategy and a range of different domains, and so you may already be familiar with the strategy and broad terms. In this class, however, we will focus on a five-step strategy for doing Backwards Design in data science:\n",
    "\n",
    "1. Define the problem you want to solve.\n",
    "2. Define a *question* that you wish to answer to help you solve this problem.\n",
    "3. Articulate exactly what an answer to your question would look like.\n",
    "4. Determine the variables you would need in order to generate that answer.\n",
    "5. Identify data sets with those variables, and develop a strategy for bringing them together.\n",
    "\n",
    "## 1) Define Your Problem\n",
    "\n",
    "This first step should be the most straightforward, and yet you will be surprised at how often it is never actually explicitly addressed. People get so excited about the idea of data science that they will often come to you (the data scientist) with the data set and say \"do some data science with this!\" So the first thing you should always do when starting a data science project is make sure that you can clearly articulate the objective of the project. In addition, you should always make sure that *your stakeholder* agrees with that articulation of the problem you are trying to address! There's nothing worse than spending weeks on a project and then discovering that it's not actually a value to your stakeholder.\n",
    "\n",
    "Here are a few examples of defined problems:\n",
    "\n",
    "- We don't know how to reduce mass incarceration.\n",
    "- My business can't identify potential new customers.\n",
    "- We don't know who is going to develop Alzheimers, so we can't test early interventions.  \n",
    "\n",
    "## 2) Define the Question You Wish to Answer\n",
    "\n",
    "Although not everyone will agree with us, it is my view the data science is fundamentally the practice of using data to quantifiably answer questions about the world. \n",
    "\n",
    "For example, when we ran our regressions of birth weight on various demographic variables and whether the mother smoked during pregnancy, those models were answering the question \"is maternal smoking associated with lower birth weight (at a statistically significant level after controlling for other confounds)?\" \n",
    "\n",
    "If someone who runs a commerce website runs an A/B test where users visiting the site are randomly assigned to see two versions of a new landing page, and we then track their purchasing behavior, then when we analyze that data statistically what we're doing is answering the question \"Which of these designs is more effective at getting customers to buy things?\"\n",
    "\n",
    "And if we train a supervised machine learning algorithm to identify cancer in x-rays and then evaluate its performance, we're looking to answer the question \"can we identify cancer from patient x-rays, and if so, how well?\"\n",
    "\n",
    "\n",
    "So the next step in backwards design is to ask yourself: what question, if answered, would help you solve the problem that motivates you?\n",
    "\n",
    "\n",
    "\n",
    "\n",
    "\n",
    "## A Digression on Supervised Machine Learning\n",
    "\n",
    "The part of data science where people are most likely to object to this characterization is an supervised machine learning. How is predicting labels for unlabeled data a form of answering a question?\n",
    "\n",
    "The answer is that when you are doing supervised machine learning, what you are fundamentally asking your model is: \"how do you think the entity who labeled the data in your training data set with label this new observation?\" Because that's all that supervised machine learning does: it develops models that are designed to replicate the behavior that gave rise to the data set due used for training your model. For example, if you train a supervised machine learning algorithm to label pictures with the name of the animal in the picture by feeding it a bunch of pictures that have been labeled by undergraduates at an American university, than what you are training that machine learning algorithm to do is answer the question \"how would an american undergraduate label this photo\" every time it sees an unlabeled photograph. Obviously different supervised machine learning algorithms go about trying to answer this question in different ways, and some will be more successful than others depending on the context (which is why we spend so much time studying model selection in machine learning courses), but answering this question is *always* the goal to which they aspire.\n",
    "\n",
    "This is a bit of a digression, but I think it's an important one: recognizing that this is all supervised machine learning algorithms do is important because it helps you, the data scientist, understand the limitations of supervised machine learning algorithms. For a surprisingly long time, people thought that machine learning algorithms were incapable of harboring racial or sexist prejudices. They are, after all, just built of math, and math can't be racist, can it? And so companies like amazon tried to build supervised machine learning algorithms to help them decide who to hire. The problem, though, is that they trained them using data on which people human employees had decided to hire in the past, and data from subjective employee evaluations that had been made by human supervisors. And because this gave rise to an algorithm that looked at people's resumes and asked itself \"what would Amazon's (very human) hiring staff and supervisors have thought of this person?,\" the algorithm of course inherited all the biases of those humans. And so, OOPS!, when Amazon suddenly realized that \"their new recruiting engine didn't like women,\" [they had to abandon the project](https://www.reuters.com/article/us-amazon-com-jobs-automation-insight/amazon-scraps-secret-ai-recruiting-tool-that-showed-bias-against-women-idUSKCN1MK08G).\n",
    "\n",
    "OK, digression on bias in data science complete. For now. :)\n",
    "\n",
    "\n",
    "\n"
   ]
  }
 ],
 "metadata": {
  "kernelspec": {
   "display_name": "Python 3",
   "language": "python",
   "name": "python3"
  },
  "language_info": {
   "codemirror_mode": {
    "name": "ipython",
    "version": 3
   },
   "file_extension": ".py",
   "mimetype": "text/x-python",
   "name": "python",
   "nbconvert_exporter": "python",
   "pygments_lexer": "ipython3",
   "version": "3.7.8"
  }
 },
 "nbformat": 4,
 "nbformat_minor": 4
}
