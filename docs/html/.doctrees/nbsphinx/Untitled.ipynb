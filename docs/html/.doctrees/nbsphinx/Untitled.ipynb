{
 "cells": [
  {
   "cell_type": "markdown",
   "metadata": {},
   "source": [
    "# Fixed Effects and Causal Inference"
   ]
  },
  {
   "cell_type": "markdown",
   "metadata": {},
   "source": [
    "So, you're working with panel data. You have either multiple observations per entity (usually data over time), or you have nested data (data on individuals, each of whom belongs to a larger group, like kids in a school). So you want to add fixed effects for the group or entity. But what does that mean from the perspective of causal inference?\n",
    "\n",
    "Let's start with an example: you have sales data for all of your stores each week for a couple years, and you're interested in better understanding the effect of new product releases on sales. When you release a new product, it usually appears in stores in different regions at different times, a strategy you use to make it easier to manage new product logistics.\n",
    "\n",
    "So you have a dataset where each row is a store-week, and you also have data on sales for each row, and whether that was the week a new product was rolled out. \n",
    "\n",
    "Suppose you start with a \"pooled\" regression, where you just regress sales on whether a store has a new product (with no fixed effects or hierarchical modeling). "
   ]
  },
  {
   "cell_type": "code",
   "execution_count": null,
   "metadata": {},
   "outputs": [],
   "source": []
  }
 ],
 "metadata": {
  "kernelspec": {
   "display_name": "Python 3",
   "language": "python",
   "name": "python3"
  },
  "language_info": {
   "codemirror_mode": {
    "name": "ipython",
    "version": 3
   },
   "file_extension": ".py",
   "mimetype": "text/x-python",
   "name": "python",
   "nbconvert_exporter": "python",
   "pygments_lexer": "ipython3",
   "version": "3.7.8"
  }
 },
 "nbformat": 4,
 "nbformat_minor": 4
}
