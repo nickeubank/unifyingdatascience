{
 "cells": [
  {
   "cell_type": "markdown",
   "metadata": {},
   "source": [
    "# Reading Reflections"
   ]
  },
  {
   "cell_type": "markdown",
   "metadata": {},
   "source": [
    "Causal inference and project design our domains where success, more than anything, will be found in developing your critical thinking skills and developing a skeptical mindset. Unlike some technical or mathematical courses, these are areas where there are almost never right and wrong answers; correctness will almost always be contingent on untestable assumptions you will have to evaluate through your reasoning and domain knowledge.\n",
    "\n",
    "To aid you in developing this skill, you will be required to submit reflections on the material you read in advance of each class (These reading reflections will be due by 8am the morning of class on any day there are assigned readings.). \n",
    "\n",
    "In these reading reflections, you will be asked to write about (a) the thing that you found most interesting about the readings (and why you found it interesting), and (b) the thing that you found most confusing about the readings (and why you found it confusing), or the thing in the readings that raised the most questions for you.\n",
    "\n",
    "The goal of these readings is to give you an opportunity to reflect upon the material you are reading, and also to give your instructors information about topics of particular interest or confusion. With that in mind, I hope you will approach these not as annoying to-dos, but rather as a tool to help you process, internalize, and *actively* engage with the concepts you are learning.\n",
    "\n",
    "Responses will be graded according to the following rubric:\n",
    "\n",
    "There are 0.5 points available for each of the two responses for a total of 1.0 possible points per reading response. A 0.95 is a solid \"A\"; a 1.0 constitutes a \"A+\" and will only be given out sparingly for exceptional work. \n",
    "\n",
    "You will notice I reference drawing meaningful connections between the material in the reading and material from other readings/courses. To be clear, this is often present in thoughtful responses, but is not strictly required -- there are some readings where there is more than enough material within the reading itself to keep one busy!\n",
    "\n",
    "- 0.5: *Great!* You engaged thoughtfully with a complicated concept from the reading in an exceptionally insightful manner. Moreover, you most likely managed to draw meaningful connections between the material in this reading and material from other readings/courses.\n",
    "- 0.475: *Good!* You engage thoughtfully with a complicated concept from the reading, and you may have made meaningful connections between the material in this reading and material and other readings / courses.\n",
    "- 0.425: Fine. You engaged with reading, but you did not do a very good job of explaining *why* you found something interesting/confusing.\n",
    "- 0.375: I mean... you did *something*, but your reflections lack any demonstration of thoughtful engagement with the material.\n",
    "\n",
    "Note that at no point do I reference the length of a response per se -- in general, I expect good reading responses to be at least one meaty paragraph (~4 sentences?) -- but a short, succinct, thoughtful response will get a better grade than a long superficial one.\n",
    "\n",
    "Finally, while you may find it is easier or harder to answer these questions some weeks depending on the length / complexity of the readings, please bear in mind that in this course we are only skating across the surface of topics to which many people dedicate their careers. Given that, there is no excuse for not finding material in the readings you can use to generate rich, thoughtful responses to these prompts."
   ]
  }
 ],
 "metadata": {
  "language_info": {
   "name": "python"
  }
 },
 "nbformat": 4,
 "nbformat_minor": 2
}
