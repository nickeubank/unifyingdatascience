{
 "cells": [
  {
   "cell_type": "markdown",
   "metadata": {},
   "source": [
    "# How Matching is Done (A Summary)"
   ]
  },
  {
   "cell_type": "markdown",
   "metadata": {},
   "source": [
    "In this reading, I'll give a high level summary of how matching works before referring to a youtube lesson a the nitty gritty of a few specific implementations. "
   ]
  },
  {
   "cell_type": "markdown",
   "metadata": {},
   "source": [
    "## Pruning Your Data\n",
    "\n",
    "As noted in our last reading (this reading is a follow-on to [The Why of Matching](matching_why.ipynb), so if you haven't read that start there), matching could be more appropriately called \"pruning\", as the goal is to winnow down your dataset until you have a set of observations for which your control and treatment variables look very similar in terms of observable characteristics. So how do we do that?\n",
    "\n",
    "A simple matching algorithm would proceed like this: \n",
    "\n",
    "1. Loop over all your treated observations. \n",
    "2. For each treated observation, look for the most similar untreated observation in terms of your control variables that isn't already in a pair. \n",
    "3. If that untreated observation is too dissimilar to the treated observation (as the user you have to pick a threshold for how dissimilar is ok), then throw away the treated observation. \n",
    "4. If not, call them a pair and keep both. \n",
    "5. When you've finished looping over your treated observations, throw away any unpaired untreated observations. \n",
    "\n",
    "When you're done, you'll have a collected of pairs of observations (one treated, one untreated), where both members of each pair are very similar in terms of their observable control variables. All other data has been thrown away. \n",
    "\n",
    "To illustrate with the example from the last reading, if we started with this data: \n",
    "![matching_king_1](images/matching_king_1.png)\n",
    "\n",
    "A simple matching algorithm would probably prune it down to something like this: \n",
    "\n",
    "![matching_king_4](images/matching_king_4.png)"
   ]
  },
  {
   "cell_type": "markdown",
   "metadata": {},
   "source": [
    "Then, and here's the cool part, you take this dataset and analyze just the way you would otherwise! Just run your regression on this dataset!"
   ]
  },
  {
   "cell_type": "markdown",
   "metadata": {},
   "source": [
    "### Measuring Similarity\n",
    "\n",
    "The biggest decision you have to make when doing matching is deciding how you want to measure whether two observations are \"similar\". The most simple strategy is to:\n",
    "\n",
    "- For each control variable, calculate the difference between the two observations (so if one has Education of 20 and one of 14, you'd get 6). Note the example above just has Education, but in reality you likely have dozens of these variables, so you do this for each variable. \n",
    "- Normalize those differences by the standard deviation of the variable (so divide 6 by the standard deviation of Education)\n",
    "- Square all those differences, add them up, and take the square root. That's your \"similarity\" score. \n",
    "\n",
    "Basically, this is like taking the euclidean distance between the points in some really high dimensional space, except you also normalize distances by their standard deviation, a strategy called \"Mahalanobis Distance Matching\". \n",
    "\n",
    "Of course it's not the other strategy -- the video linked at the bottom of this reading will direct you to a talk on three very good strategies, as well as their strengths and weaknesses -- but that's generally the idea. "
   ]
  },
  {
   "cell_type": "markdown",
   "metadata": {},
   "source": [
    "## When Can / Should I Use Matching?\n",
    "\n",
    "Matching is best used in a somewhat odd situation: a place where you have some overlap in what your treated and untreated observations look like (called having \"common support\"),  but where you also have some areas where they *don't* overlap (imbalance). \n",
    "\n",
    "The first is necessary because when you prune your data, the goal is to keep only observations that look similar, so you need *some* area of overlap, or you won't have anything to match!\n",
    "\n",
    "At the same time, however, if there's *no* imbalance, then you don't really need to do matching. \n",
    "\n",
    "So when should you use it? When your distributions have **both** areas of overlap and areas of imbalance. "
   ]
  },
  {
   "cell_type": "markdown",
   "metadata": {},
   "source": [
    "## Checking Balance\n",
    "\n",
    "There's a balance you have to strike when matching: the more strict you are about the maximium dissimilarity you're willing to include before you throw out a pair of observations, the more balanced your final dataset will be, but the smaller your dataset will be do.\n",
    "\n",
    "Right? If you reject any pairs that aren't almost exactly identical, you'll end up with less data, but what's left will be more balanced. \n",
    "\n",
    "So for your application, you have to decide on whether it's better to have the statistical power of more observations, or the better balance from fewer. "
   ]
  },
  {
   "cell_type": "markdown",
   "metadata": {},
   "source": [
    "## Analyze!\n",
    "\n",
    "Now the best part of matching: now you just do do what you would have done normally. \n",
    "\n",
    "In other words, you can think of this as a kind of \"pre-processing step\", and now you can carry forward by feeding this into a regression just the way you would with the original data. "
   ]
  },
  {
   "cell_type": "markdown",
   "metadata": {},
   "source": [
    "## Specific Models\n",
    "\n",
    "OK, for the details of a few common models, please go watch this great video by Gary King -- you can probably start 15 minuntes in, and should watch till at least 45 minutes, though what follows is also really interesting!\n",
    "\n",
    "[Gary King on Matching](https://youtu.be/tvMyjDi4dyg?t=910)"
   ]
  }
 ],
 "metadata": {
  "kernelspec": {
   "display_name": "Python 3",
   "language": "python",
   "name": "python3"
  },
  "language_info": {
   "codemirror_mode": {
    "name": "ipython",
    "version": 3
   },
   "file_extension": ".py",
   "mimetype": "text/x-python",
   "name": "python",
   "nbconvert_exporter": "python",
   "pygments_lexer": "ipython3",
   "version": "3.7.8"
  }
 },
 "nbformat": 4,
 "nbformat_minor": 4
}
