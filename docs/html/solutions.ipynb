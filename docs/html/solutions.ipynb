{
 "cells": [
  {
   "cell_type": "markdown",
   "metadata": {},
   "source": [
    "# Solutions"
   ]
  },
  {
   "cell_type": "markdown",
   "metadata": {},
   "source": [
    "- [AB Testing / Experiments](exercises/solutions_abtesting.ipynb)\n",
    "- [Resume Experiment, Problems with ATE](exercises/solutions_resume.ipynb)\n",
    "- [Income Inequality, Regression](exercises/solutions_regressions_incomeineq.ipynb)\n",
    "- [Indicator Vars](exercises/solutions_indicators.ipynb)\n",
    "- [Fixed Effects](exercises/solutions_panel.ipynb)\n",
    "- [Matching](exercises/solutions_matching.ipynb)\n",
    "- [Diff-in-Diff](exercises/solutions_diffindiff.ipynb)"
   ]
  }
 ],
 "metadata": {
  "kernelspec": {
   "display_name": "Python 3",
   "language": "python",
   "name": "python3"
  },
  "language_info": {
   "codemirror_mode": {
    "name": "ipython",
    "version": 3
   },
   "file_extension": ".py",
   "mimetype": "text/x-python",
   "name": "python",
   "nbconvert_exporter": "python",
   "pygments_lexer": "ipython3",
   "version": "3.7.8"
  }
 },
 "nbformat": 4,
 "nbformat_minor": 4
}
