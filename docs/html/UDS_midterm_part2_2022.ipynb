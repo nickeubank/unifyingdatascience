{
 "cells": [
  {
   "cell_type": "markdown",
   "id": "paperback-china",
   "metadata": {},
   "source": [
    "# UDS Midterm 2022, Part 2\n",
    "\n",
    "Now open book!"
   ]
  },
  {
   "cell_type": "markdown",
   "id": "liquid-dialogue",
   "metadata": {},
   "source": [
    "## Estimating The Effect of Education on Employment\n",
    "\n",
    "In this exercise, we're going to use data from the [American Communities Survey (ACS)](https://usa.ipums.org/usa/acs.shtml) to study the relationship between educational attainment and wages. The ACS is a survey conducted by the United States Census Bureau (though it is not \"The Census,\" which is a counting of every person in the United States that takes place every 10 years) to measure numerous features of the US population. The data we will be working with includes about 100 variables from the 2017 ACS survey, and is a 10% sample of the ACS (which itself is a 1% sample of the US population, so we're working with about a 0.1% sample of the United States). \n",
    "\n",
    "This data comes from [IPUMS](https://usa.ipums.org/usa/), which provides a very useful tool for getting subsets of major survey datasets, not just from the US, but [from government statistical agencies the world over](https://international.ipums.org/international-action/sample_details).\n",
    "\n",
    "This is *real* data, meaning that you are being provided the data as it is provided by IPUMS. Documentation for all variables used in this data can be found [here](https://usa.ipums.org/usa-action/variables/group) (you can either search by variable name to figure out the meaning of a variable in this data, or search for something you want to see if a variable with the right name is in this data). \n",
    "\n",
    "Within this data is information on both the educational background and employment status for a representative sample of Americans. We will now use this data to estimate the effect of getting a college degree on ones ability to get a job."
   ]
  },
  {
   "cell_type": "markdown",
   "id": "agreed-recipient",
   "metadata": {},
   "source": [
    "**1)** Data for these [exercises can be found here](https://github.com/nickeubank/MIDS_Data/tree/master/US_AmericanCommunitySurvey). First, download `US_ACS_2017_10pct_sample.dta`. Now import `US_ACS_2017_10pct_sample.dta` into a pandas DataFrame with `pd.read_stata`."
   ]
  },
  {
   "cell_type": "markdown",
   "id": "blind-philippines",
   "metadata": {},
   "source": [
    "## Getting to Know Your Data\n",
    "\n",
    "Normally this is where I'd tell you to dive into your data, but as this is a mid-term, I'll spare you some of the data wranging. \n",
    "\n",
    "The variables we want to use for this analysis are: `age`, `empstat`, `inctot`, `educd`, `statefip`, `countyfip`, `sex`, `race`, `hispan`.\n",
    "\n",
    "**2)** Thin your data to these variables.\n"
   ]
  },
  {
   "cell_type": "markdown",
   "id": "frozen-catalog",
   "metadata": {},
   "source": [
    "**3)** Now create an indicator variable for whether a respondent identifies as a Person of Color. A Person of Color is someone who is NOT a White non-Hispanic individual. White comes from `race` and non-Hispanic comes from `hispan`. So again, someone is NOT a PoC if they are both (White and non-hispanic); if they are not in that one category, they are a Person of Color.\n",
    "\n",
    "(Note: please excuse the labels used to label racial categories: to harmonize variable codes across long time periods, the ACS data lists all the categories that, over time, have been used in the census to identify Black respondents, whether appropriate in 2018 or not). "
   ]
  },
  {
   "cell_type": "markdown",
   "id": "progressive-advocacy",
   "metadata": {},
   "source": [
    "## Subsetting for People over 25 in the Labor Force\n",
    "\n",
    "**4)** The ACS surveys *everyone*, but we're only interested in people who are \"in the labor force\", which means they are either employed *or seeking employment*. Use the `empstat` variable to restrict your sample to people who are employed or unemployed, excluding anyone who doesn't answer or who aren't in the labor force. "
   ]
  },
  {
   "cell_type": "markdown",
   "id": "neural-conservative",
   "metadata": {},
   "source": [
    "**5)** Also restrict attention to people who are at least 25. Note this may require some cleaning of the \"age\" variable. "
   ]
  },
  {
   "cell_type": "markdown",
   "id": "bronze-poster",
   "metadata": {},
   "source": [
    "## Measuring Education"
   ]
  },
  {
   "cell_type": "markdown",
   "id": "plain-fusion",
   "metadata": {},
   "source": [
    "**6)** Create a categorical variable using the information in `educd` that identifies whether a person's **highest** education qualification is:\n",
    "\n",
    "- (a) a high school *diploma* or equivalent (a ged or alternative credential counts), \n",
    "- (b) an undergraduate degree *or better*, or \n",
    "- (c) the person has neither a high school diploma, nor a high school diploma equivalent, nor an undergraduate degree. \n",
    " \n",
    "Note that a college degree in the US may be called either a Bachelors Degree or an Associates Degree. You may assume anyone in college has a high school diploma, and anyone with an advanced degree (masters degree or doctoral degree) has a college degree.\n",
    "\n",
    "(Note: we include people who have advanced degrees as having \"college degrees\" because getting an advanced degree is a \"post-treatment outcome\" -- it is determined after treatment assignment (going to college) is decided. If someone can't go to college because they don't have the money, they mechanically can't go on to get a PhD. Just focusing on people who got a college degree but not an advanced degree may be under-estimating the value of a college degree since if people in our control group (people without college degrees) were assigned to treatment (given college degrees), some likely would have gone on to get advanced degrees!)"
   ]
  },
  {
   "cell_type": "markdown",
   "id": "decent-zealand",
   "metadata": {},
   "source": [
    "## Education and Employment"
   ]
  },
  {
   "cell_type": "markdown",
   "id": "nutritional-exemption",
   "metadata": {},
   "source": [
    "**7)** Now look at the simple relationship between these three educational attainment levels and the likelihood of being employed in a linear probability model (i.e. use a linear regression). Also include age and age-squared as controls. \n",
    "\n",
    "How much more likely is someone to be employed if they have a high school degree (as opposed to no degrees or diplomas)? Is that difference statistically significant? What is the t-value associated with that difference?"
   ]
  },
  {
   "cell_type": "markdown",
   "id": "significant-dating",
   "metadata": {},
   "source": [
    "**8)** UPDATED LANGUAGE: Now add an indicator for whether the respondent is a person of color. What effect does that have on the apparent treatment effect of having a high school diploma as your highest degree (as compared to not having any degree or diploma).\n",
    "\n",
    "*Old language that could be interpreted a little differently:* Now add an indicator for whether the respondent is a person of color. What effect does that have on the apparent treatment effect of getting a high school diploma (as compared to not having any degree).\n",
    "\n"
   ]
  },
  {
   "cell_type": "markdown",
   "id": "veterinary-lexington",
   "metadata": {},
   "source": [
    "**9)** Given our formula for omitted variable bias in a simple regression like this, and given that the coefficient on PoC is negative and the coefficient on having a high school diploma has changed, what does that tell you about the correlation between being a PoC and getting a high school degree in the US?"
   ]
  },
  {
   "cell_type": "markdown",
   "id": "stable-scientist",
   "metadata": {},
   "source": [
    "**10)** Using the language of potential outcomes, explain what you have learned about why the estimate of the effect of having a high school diploma in your simple regression (without a variable for whether the respondent was a Person of Color) was wrong? i.e. what assumption required for estimating a causal effect do we know was violated, and how was it violated?"
   ]
  },
  {
   "cell_type": "markdown",
   "id": "f6ecf757",
   "metadata": {},
   "source": [
    "**11)** Now, using our regression of employment status on our three education categories, age, age-squared, and whether the respondent is a PoC, how much more likely is someone to be employed if they have a college degree as opposed to a high school diploma or equivalent? Is that difference statistically significant? Please provide the difference and t-value if you can; if not, at least provide the difference."
   ]
  }
 ],
 "metadata": {
  "kernelspec": {
   "display_name": "Python 3",
   "language": "python",
   "name": "python3"
  },
  "language_info": {
   "codemirror_mode": {
    "name": "ipython",
    "version": 3
   },
   "file_extension": ".py",
   "mimetype": "text/x-python",
   "name": "python",
   "nbconvert_exporter": "python",
   "pygments_lexer": "ipython3",
   "version": "3.9.7"
  }
 },
 "nbformat": 4,
 "nbformat_minor": 5
}
