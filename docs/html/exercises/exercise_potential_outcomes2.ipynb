{
 "cells": [
  {
   "cell_type": "markdown",
   "metadata": {},
   "source": [
    "# Making Potential Outcomes Concrete 2\n",
    "\n",
    "In this exercise, I will describe a simple data science project, and your job is to map the elements of that project onto the Potential Outcomes Framework. \n",
    "\n",
    "## The Study\n",
    "\n",
    "You work for the HR department of a large company, WeMakeWidgets LLC. WeMakeWidgets is struggling because their health insurance costs have been skyrocketing, and they're looking for ways to control costs.\n",
    "\n",
    "For the past few years, WeMakeWidgets (WMW) has allowed its employees to enroll in a program where, instead of being allowed to see doctors in person, they have to first see a nurse via Zoom who offers advice, and then only sends them to see a doctor in person if necessary. In exchange, for doing these Zoom triage appointments, these employees are given a 50 dollar a month bonus. \n",
    "\n",
    "Employees who are enrolled in the program spend substantially less on healthcare than people not in the program, saving the company money. \n",
    "\n",
    "With that in mind, the HR department is thinking of making an initial Zoom appointment mandatory for all employees seeking medical care."
   ]
  },
  {
   "cell_type": "markdown",
   "metadata": {},
   "source": [
    "## Mapping to the Potential Outcomes Framework"
   ]
  },
  {
   "cell_type": "markdown",
   "metadata": {},
   "source": [
    "In words, describe exactly what quantities in this study context would correspond to the different components of the Potential Outcomes Framework we've been studying. When defining these, remember to define both the *thing* being measured *and the population* being measured.\n",
    "\n",
    "As you do so, avoid using terms like \"treatment\", \"control group\", or \"potential outcome\". The goal of this exercise is to move from the abstract conceptual derivations we've read to the specifics of this study. For example, I've put in an answer to Question 1 below:"
   ]
  },
  {
   "cell_type": "markdown",
   "metadata": {},
   "source": [
    "**1**: $E(Y_{T=0})$\n",
    "\n",
    "> The average healthcare a WMW employee would consume if there were no Zoom triage appointments. "
   ]
  },
  {
   "cell_type": "markdown",
   "metadata": {},
   "source": [
    "**2**: $E(Y_{T=1})$\n",
    "\n",
    "```\n",
    "\n",
    "\n",
    "\n",
    "\n",
    "```"
   ]
  },
  {
   "cell_type": "markdown",
   "metadata": {},
   "source": [
    "**3**: $E(Y_{T=1}) - E(Y_{T=0})$\n",
    "\n",
    "```\n",
    "\n",
    "\n",
    "\n",
    "\n",
    "\n",
    "```"
   ]
  },
  {
   "cell_type": "markdown",
   "metadata": {},
   "source": [
    "**4**: $E(Y_{T=1}| D=1)$\n",
    "\n",
    "```\n",
    "\n",
    "\n",
    "\n",
    "\n",
    "\n",
    "```"
   ]
  },
  {
   "cell_type": "markdown",
   "metadata": {},
   "source": [
    "**5**: $E(Y_{T=0}| D=0)$\n",
    "\n",
    "```\n",
    "\n",
    "\n",
    "\n",
    "\n",
    "\n",
    "```"
   ]
  },
  {
   "cell_type": "markdown",
   "metadata": {},
   "source": [
    "**6**: $E(Y_{T=1}|D=0)$\n",
    "\n",
    "```\n",
    "\n",
    "\n",
    "\n",
    "\n",
    "\n",
    "```"
   ]
  },
  {
   "cell_type": "markdown",
   "metadata": {},
   "source": [
    "**7**: $E(Y_{T=0}| D=1)$\n",
    "\n",
    "\n",
    "```\n",
    "\n",
    "\n",
    "\n",
    "\n",
    "\n",
    "```"
   ]
  },
  {
   "cell_type": "markdown",
   "metadata": {},
   "source": [
    "**8**: $E(Y_{T=1}| D=0) - E(Y_{T=0}|D=0)$\n",
    "\n",
    "```\n",
    "\n",
    "\n",
    "\n",
    "\n",
    "\n",
    "```"
   ]
  },
  {
   "cell_type": "markdown",
   "metadata": {},
   "source": [
    "**9**: $E(Y_{T=0}| D=1) - E(Y_{T=0}|D=0)$\n",
    "\n",
    "```\n",
    "\n",
    "\n",
    "\n",
    "\n",
    "\n",
    "```"
   ]
  },
  {
   "cell_type": "markdown",
   "metadata": {},
   "source": [
    "## Observability\n",
    "\n",
    "**10**: Now, which of the quantities above can be directly observed?\n",
    "\n",
    "```\n",
    "\n",
    "\n",
    "```"
   ]
  },
  {
   "cell_type": "markdown",
   "metadata": {},
   "source": [
    "## Causal Inference"
   ]
  },
  {
   "cell_type": "markdown",
   "metadata": {},
   "source": [
    "In order for the difference in healthcare consumption for Zoom enrollees -- that those enrolled in the Zoom program consume less healthcare -- to be a true estimate of the average effect of Zoom triage appointments, we know that it must be the case that:\n",
    "\n",
    "$E(Y_{T=0}| D=1) - E(Y_{T=0}| D=0) = 0$\n",
    "\n",
    "and \n",
    "\n",
    "$E(Y_{T=1}| D=0) - E(Y_{T=0}| D=0) = E(Y_{T=1}| D=1) - E(Y_{T=0} | D=1)$. \n",
    "\n",
    "In the context of this study, what do those two conditions mean *in plain english*? As above, avoid using abstract terms (\"treatment\", \"baseline\", etc.) and try and be as concrete as possible. \n",
    "\n",
    "**11** $E(Y_{T=0}| D=1) - E(Y_{T=0}| D=0) = 0$:\n",
    "\n",
    "\n",
    "```\n",
    "\n",
    "\n",
    "\n",
    "```"
   ]
  },
  {
   "cell_type": "markdown",
   "metadata": {},
   "source": [
    "**12** $E(Y_{T=1}| D=0) - E(Y_{T=0}| D=0) = E(Y_{T=1}| D=1) - E(Y_{T=0}| D=1)$:\n",
    "\n",
    "\n",
    "```\n",
    "\n",
    "\n",
    "\n",
    "```"
   ]
  },
  {
   "cell_type": "markdown",
   "metadata": {},
   "source": [
    "Now, for each of the conditions above, please give one reason -- *in plain english* -- why those conditions may **not** be met in the context of this study? \n",
    "\n",
    "As you do so, be specific! Tell me a story about why *in the case of this study* you think one of these conditions may hold. One can always say things like \"people in the two groups may have been different\", but I want a specific reason you think they might have been different in a way that meets the conditions.\n",
    "\n",
    "**13** It may be the case that $E(Y_{T=0}| D=1) - E(Y_{T=0}| D=0) \\neq 0$ because...:\n",
    "\n",
    "\n",
    "```\n",
    "\n",
    "\n",
    "\n",
    "```"
   ]
  },
  {
   "cell_type": "markdown",
   "metadata": {},
   "source": [
    "**14**  It may be the case that $E(Y_{T=1}| D=0) - E(Y_{T=0}|D=0) \\neq E(Y_{T=1}| D=1) - E(Y_{T=0}| D=1)$ because...:\n",
    "\n",
    "\n",
    "```\n",
    "\n",
    "\n",
    "\n",
    "```"
   ]
  }
 ],
 "metadata": {
  "kernelspec": {
   "display_name": "Python 3",
   "language": "python",
   "name": "python3"
  },
  "language_info": {
   "codemirror_mode": {
    "name": "ipython",
    "version": 3
   },
   "file_extension": ".py",
   "mimetype": "text/x-python",
   "name": "python",
   "nbconvert_exporter": "python",
   "pygments_lexer": "ipython3",
   "version": "3.7.8"
  }
 },
 "nbformat": 4,
 "nbformat_minor": 4
}
