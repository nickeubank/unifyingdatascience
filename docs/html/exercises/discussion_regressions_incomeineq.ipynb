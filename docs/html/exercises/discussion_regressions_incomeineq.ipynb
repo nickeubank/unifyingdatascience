{
 "cells": [
  {
   "attachments": {},
   "cell_type": "markdown",
   "metadata": {},
   "source": [
    "# Interpreting Causal Effects of Gender\n",
    "\n",
    "In the preceding exercises, we established that a reasonable proportion of the wage gap between men and women is the result of industry sorting—that is, women tending to be employed in lower paying industries than men. But what exactly does that mean? Does it mean that the *true effect* of gender on wages is the lower wage gap we get when we control for industry?\n",
    "\n",
    "Well, not necessarily. As you (hopefully) answered in exercise 13, the coefficient on `female` in that regression is essentially the result of comparing men and women of the same age who have the same education and work in the same industry. But that does not imply that women are getting lower wages because they have *just chosen* to go into lower paying fields and that only the remaining wage gap we estimate here is the real result of discrimination. Women may be choosing these fields because they face discrimination in higher paying (STEM) fields, or because they were discouraged from taking math classes in high school (both things we know from research happens a lot).\n",
    "\n",
    "In other words, as we add controls to our regression, we're essentially *decomposing* the wage gap experienced by the *average* working women (as compared to the average working man) into inequities due to within industry wage differences and wage differences due to sorting across industries.\n"
   ]
  }
 ],
 "metadata": {
  "kernelspec": {
   "display_name": "base",
   "language": "python",
   "name": "python3"
  },
  "language_info": {
   "name": "python",
   "version": "3.10.8"
  },
  "vscode": {
   "interpreter": {
    "hash": "718fed28bf9f8c7851519acf2fb923cd655120b36de3b67253eeb0428bd33d2d"
   }
  }
 },
 "nbformat": 4,
 "nbformat_minor": 2
}
