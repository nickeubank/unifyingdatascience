{
 "cells": [
  {
   "cell_type": "markdown",
   "metadata": {},
   "source": [
    "# Debugging\n",
    "\n",
    "Few activities are as hated by most programmers as debugging. You always end up having to do it at the *worst* possible moment, and its easy to go insane doing it. \n",
    "\n",
    "But there are important strategies that can make debugging much less painful, and once you learn a few of them, debugging *can* actually be kind of fun (at least when you're not facing a deadline). Think of it as a detective game where you are trying to follow the clues to track down an insidious criminal! \n",
    "\n",
    "\n",
    "## Debugging is an *active* pursuit\n",
    "\n",
    "The most valuable advice I ever got about programming was: \"Programming is an *active* pursuit. If you could just stare at your code and see your problem, you probably won't have made an error in the first place.\" (Thank you [Tahir](https://research.pomona.edu/tahir-andrabi/)!) Instead, the key to effective debugging is to *actively play with your code* to (a) locate the source of your bug, and then (b) figure out what's going wrong. "
   ]
  },
  {
   "cell_type": "markdown",
   "metadata": {},
   "source": [
    "## Types of Bugs\n",
    "\n",
    "There are, broadly speaking, two types of errors in a problem: **syntax errors and logic errors.**\n",
    "\n",
    "Syntax errors are the errors that arise when write code that won't run. In many ways, this actually makes syntax errors easier, because by definition, they cause Python to raise and raise an Exception (the fancy name for an error), often making them much easier to diagnose. "
   ]
  },
  {
   "cell_type": "markdown",
   "metadata": {},
   "source": [
    "## Finding your problem\n",
    "\n",
    "The first thing you should do when you hit a problem is to figure out the *exact location* of the problem."
   ]
  },
  {
   "cell_type": "code",
   "execution_count": null,
   "metadata": {},
   "outputs": [],
   "source": []
  }
 ],
 "metadata": {
  "kernelspec": {
   "display_name": "Python 3",
   "language": "python",
   "name": "python3"
  },
  "language_info": {
   "codemirror_mode": {
    "name": "ipython",
    "version": 3
   },
   "file_extension": ".py",
   "mimetype": "text/x-python",
   "name": "python",
   "nbconvert_exporter": "python",
   "pygments_lexer": "ipython3",
   "version": "3.7.3"
  }
 },
 "nbformat": 4,
 "nbformat_minor": 4
}
