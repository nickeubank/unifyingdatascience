{
 "cells": [
  {
   "cell_type": "markdown",
   "metadata": {},
   "source": [
    "# Solutions"
   ]
  },
  {
   "attachments": {},
   "cell_type": "markdown",
   "metadata": {},
   "source": [
    "- [Crime and Police Expenditures](exercises/solutions_descriptive.ipynb)\n",
    "- [Potential Outcomes (Diet Soda)](exercises/solutions_potential_outcomes1.ipynb)\n",
    "- [Resume Experiment](exercises/solutions_resume.ipynb)\n",
    "- [Regressions / Income Inequality](exercises/solutions_regressions_incomeineq.ipynb)\n",
    "- [Indicator Vars](exercises/solutions_indicators.ipynb)\n",
    "- [Fixed Effects](exercises/solutions_panel.ipynb)\n",
    "- [Matching](exercises/solutions_matching.ipynb)\n"
   ]
  }
 ],
 "metadata": {
  "kernelspec": {
   "display_name": "Python 3",
   "language": "python",
   "name": "python3"
  },
  "language_info": {
   "codemirror_mode": {
    "name": "ipython",
    "version": 3
   },
   "file_extension": ".py",
   "mimetype": "text/x-python",
   "name": "python",
   "nbconvert_exporter": "python",
   "pygments_lexer": "ipython3",
   "version": "3.7.8"
  }
 },
 "nbformat": 4,
 "nbformat_minor": 4
}
