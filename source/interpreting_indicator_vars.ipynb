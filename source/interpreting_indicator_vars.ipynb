{
 "cells": [
  {
   "cell_type": "markdown",
   "metadata": {},
   "source": [
    "# Using and Interpreting Indicator (Dummy) Variables\n",
    "\n",
    "Oh, man -- Indicator Variables. We give them so little time in econometrics courses, and yet I can think of few topics I've seen cause problems for established scholars. So let's see if we can give them the treatment they deserve, and hoepfully by the end of this, you've have a firm understanding not only of how to use Indicator Variables, but also (and more importantly) how to interpet them.\n",
    "\n",
    "This tutorial proceeds as follows:\n",
    "\n",
    "1) Discussion of indicator variables for categorical variables with only two values (like gender, at least as it is implemented in most surveys)\n",
    "\n",
    "2) Discussion of indicator variables for categorical variables with more than two values (like race or party)\n",
    "\n",
    "3) Discussion of indicator variables interacted with continuous variables\n",
    "\n",
    "\n"
   ]
  },
  {
   "cell_type": "markdown",
   "metadata": {},
   "source": [
    "## What are indicator variables?\n",
    "\n",
    "Indicator variables -- sometimes also referred to as dummy variables, though I dont know why -- are variables that take on only the value of 0 and 1, and are used to *indicate* whether a given observation belongs to a discrete category in a way that can be used in regression models. \n",
    "\n",
    "For example, indicator variables can be used to indicate if an survey respondent is a woman (if the variable is 1 for women, 0 otherwise) or a democrat (if the variable is 1 for democrats, 0 otherwise). In addition, as discussed in more detail below, a collection of indicator variables can also be used for categorical variables that take on more than 2 variables -- for example, a *collection* of indicator variables can be used to represented individual's political party registration. "
   ]
  },
  {
   "cell_type": "markdown",
   "metadata": {},
   "source": [
    "## The TWO things that you must understand when using indicator variables\n",
    "\n",
    "When you put an indicator variable in a regression model, there are two things you must always keep in mind about interpreting the coefficients associated with the indicator variable: \n",
    "\n",
    "1) The coefficient on an indicator variable is an estimate of the average **DIFFERENCE** in the dependent variable for the group identified by the indicator variable (after taking into account other variables in the regression) and\n",
    "\n",
    "2) the **REFERENCE GROUP**, which is the set of observations for which the indicator variable is always zero. \n",
    "\n",
    "If you always remember that the coefficient on an indicator variable is an estimate of a **DIFFERENCE** with respect to a **REFERENCE GROUP** (also sometimes referred to as the \"omitted category\"), you're 90% of the way to understanding indicator variables. \n",
    "\n",
    "OK, let's get concrete. \n"
   ]
  },
  {
   "cell_type": "markdown",
   "metadata": {},
   "source": [
    "# Indicator Variables with Two Category Variable\n",
    "\n",
    "Let's do a simple example predicting voter turnout using data from North Carolina. Suppose in particular we're interested in looking at how turnout varies by gender, which is dichotomous in the North Carolina voter file (obviously this is somewhat problematic given what we've come to know about gender, but in most datasets you'll find a dichotomous coding). "
   ]
  },
  {
   "cell_type": "code",
   "execution_count": 1,
   "metadata": {},
   "outputs": [
    {
     "data": {
      "text/html": [
       "<table>\n",
       "<thead><tr><th scope=col>age</th><th scope=col>gender</th><th scope=col>voted</th><th scope=col>party</th><th scope=col>race</th></tr></thead>\n",
       "<tbody>\n",
       "\t<tr><td>71                       </td><td>FEMALE                   </td><td>1                        </td><td>UNAFFILIATED             </td><td>WHITE                    </td></tr>\n",
       "\t<tr><td>47                       </td><td>MALE                     </td><td>1                        </td><td>UNAFFILIATED             </td><td>WHITE                    </td></tr>\n",
       "\t<tr><td>29                       </td><td>MALE                     </td><td>0                        </td><td>DEMOCRATIC               </td><td>WHITE                    </td></tr>\n",
       "\t<tr><td>60                       </td><td>MALE                     </td><td>1                        </td><td>REPUBLICAN               </td><td>WHITE                    </td></tr>\n",
       "\t<tr><td>84                       </td><td>MALE                     </td><td>0                        </td><td>DEMOCRATIC               </td><td>WHITE                    </td></tr>\n",
       "\t<tr><td>56                       </td><td>MALE                     </td><td>1                        </td><td>DEMOCRATIC               </td><td>BLACK or AFRICAN AMERICAN</td></tr>\n",
       "</tbody>\n",
       "</table>\n"
      ],
      "text/latex": [
       "\\begin{tabular}{r|lllll}\n",
       " age & gender & voted & party & race\\\\\n",
       "\\hline\n",
       "\t 71                        & FEMALE                    & 1                         & UNAFFILIATED              & WHITE                    \\\\\n",
       "\t 47                        & MALE                      & 1                         & UNAFFILIATED              & WHITE                    \\\\\n",
       "\t 29                        & MALE                      & 0                         & DEMOCRATIC                & WHITE                    \\\\\n",
       "\t 60                        & MALE                      & 1                         & REPUBLICAN                & WHITE                    \\\\\n",
       "\t 84                        & MALE                      & 0                         & DEMOCRATIC                & WHITE                    \\\\\n",
       "\t 56                        & MALE                      & 1                         & DEMOCRATIC                & BLACK or AFRICAN AMERICAN\\\\\n",
       "\\end{tabular}\n"
      ],
      "text/markdown": [
       "\n",
       "age | gender | voted | party | race | \n",
       "|---|---|---|---|---|---|\n",
       "| 71                        | FEMALE                    | 1                         | UNAFFILIATED              | WHITE                     | \n",
       "| 47                        | MALE                      | 1                         | UNAFFILIATED              | WHITE                     | \n",
       "| 29                        | MALE                      | 0                         | DEMOCRATIC                | WHITE                     | \n",
       "| 60                        | MALE                      | 1                         | REPUBLICAN                | WHITE                     | \n",
       "| 84                        | MALE                      | 0                         | DEMOCRATIC                | WHITE                     | \n",
       "| 56                        | MALE                      | 1                         | DEMOCRATIC                | BLACK or AFRICAN AMERICAN | \n",
       "\n",
       "\n"
      ],
      "text/plain": [
       "  age gender voted party        race                     \n",
       "1 71  FEMALE 1     UNAFFILIATED WHITE                    \n",
       "2 47  MALE   1     UNAFFILIATED WHITE                    \n",
       "3 29  MALE   0     DEMOCRATIC   WHITE                    \n",
       "4 60  MALE   1     REPUBLICAN   WHITE                    \n",
       "5 84  MALE   0     DEMOCRATIC   WHITE                    \n",
       "6 56  MALE   1     DEMOCRATIC   BLACK or AFRICAN AMERICAN"
      ]
     },
     "metadata": {},
     "output_type": "display_data"
    }
   ],
   "source": [
    "# Load data we'll use. Should work for anyone. \n",
    "voters = read.csv(\"https://raw.githubusercontent.com/nickeubank/css_tutorials/master/exercise_data/voter_turnout.csv\")\n",
    "head(voters)"
   ]
  },
  {
   "cell_type": "code",
   "execution_count": 2,
   "metadata": {},
   "outputs": [
    {
     "data": {
      "text/html": [
       "<table>\n",
       "<thead><tr><th scope=col>age</th><th scope=col>gender</th><th scope=col>voted</th><th scope=col>party</th><th scope=col>race</th><th scope=col>female</th></tr></thead>\n",
       "<tbody>\n",
       "\t<tr><td>71                       </td><td>FEMALE                   </td><td>1                        </td><td>UNAFFILIATED             </td><td>WHITE                    </td><td>1                        </td></tr>\n",
       "\t<tr><td>47                       </td><td>MALE                     </td><td>1                        </td><td>UNAFFILIATED             </td><td>WHITE                    </td><td>0                        </td></tr>\n",
       "\t<tr><td>29                       </td><td>MALE                     </td><td>0                        </td><td>DEMOCRATIC               </td><td>WHITE                    </td><td>0                        </td></tr>\n",
       "\t<tr><td>60                       </td><td>MALE                     </td><td>1                        </td><td>REPUBLICAN               </td><td>WHITE                    </td><td>0                        </td></tr>\n",
       "\t<tr><td>84                       </td><td>MALE                     </td><td>0                        </td><td>DEMOCRATIC               </td><td>WHITE                    </td><td>0                        </td></tr>\n",
       "\t<tr><td>56                       </td><td>MALE                     </td><td>1                        </td><td>DEMOCRATIC               </td><td>BLACK or AFRICAN AMERICAN</td><td>0                        </td></tr>\n",
       "</tbody>\n",
       "</table>\n"
      ],
      "text/latex": [
       "\\begin{tabular}{r|llllll}\n",
       " age & gender & voted & party & race & female\\\\\n",
       "\\hline\n",
       "\t 71                        & FEMALE                    & 1                         & UNAFFILIATED              & WHITE                     & 1                        \\\\\n",
       "\t 47                        & MALE                      & 1                         & UNAFFILIATED              & WHITE                     & 0                        \\\\\n",
       "\t 29                        & MALE                      & 0                         & DEMOCRATIC                & WHITE                     & 0                        \\\\\n",
       "\t 60                        & MALE                      & 1                         & REPUBLICAN                & WHITE                     & 0                        \\\\\n",
       "\t 84                        & MALE                      & 0                         & DEMOCRATIC                & WHITE                     & 0                        \\\\\n",
       "\t 56                        & MALE                      & 1                         & DEMOCRATIC                & BLACK or AFRICAN AMERICAN & 0                        \\\\\n",
       "\\end{tabular}\n"
      ],
      "text/markdown": [
       "\n",
       "age | gender | voted | party | race | female | \n",
       "|---|---|---|---|---|---|\n",
       "| 71                        | FEMALE                    | 1                         | UNAFFILIATED              | WHITE                     | 1                         | \n",
       "| 47                        | MALE                      | 1                         | UNAFFILIATED              | WHITE                     | 0                         | \n",
       "| 29                        | MALE                      | 0                         | DEMOCRATIC                | WHITE                     | 0                         | \n",
       "| 60                        | MALE                      | 1                         | REPUBLICAN                | WHITE                     | 0                         | \n",
       "| 84                        | MALE                      | 0                         | DEMOCRATIC                | WHITE                     | 0                         | \n",
       "| 56                        | MALE                      | 1                         | DEMOCRATIC                | BLACK or AFRICAN AMERICAN | 0                         | \n",
       "\n",
       "\n"
      ],
      "text/plain": [
       "  age gender voted party        race                      female\n",
       "1 71  FEMALE 1     UNAFFILIATED WHITE                     1     \n",
       "2 47  MALE   1     UNAFFILIATED WHITE                     0     \n",
       "3 29  MALE   0     DEMOCRATIC   WHITE                     0     \n",
       "4 60  MALE   1     REPUBLICAN   WHITE                     0     \n",
       "5 84  MALE   0     DEMOCRATIC   WHITE                     0     \n",
       "6 56  MALE   1     DEMOCRATIC   BLACK or AFRICAN AMERICAN 0     "
      ]
     },
     "metadata": {},
     "output_type": "display_data"
    }
   ],
   "source": [
    "# Create a 0/1 variable for female. \n",
    "voters$female = as.numeric(voters$gender == \"FEMALE\") # you can also leave as TRUE / FALSE, \n",
    "                                                      # but easier to see this way. \n",
    "head(voters) "
   ]
  },
  {
   "cell_type": "code",
   "execution_count": 3,
   "metadata": {},
   "outputs": [
    {
     "data": {
      "text/plain": [
       "\n",
       "Call:\n",
       "lm(formula = voted ~ female, data = voters)\n",
       "\n",
       "Coefficients:\n",
       "(Intercept)       female  \n",
       "    0.74610      0.00754  \n"
      ]
     },
     "metadata": {},
     "output_type": "display_data"
    }
   ],
   "source": [
    "lm(voted ~ female, voters)"
   ]
  },
  {
   "cell_type": "markdown",
   "metadata": {},
   "source": [
    "OK, so how do we interpret this coefficient of 0.021 on female? As we said before, it is the average **DIFFERENCE** in the dependent variable (Whether the person votes) with respect to a **REFERENCE GROUP**. In this case, the reference group is anyone for whom the indicator is always equal to zero, which is the set of male voters. \n",
    "\n",
    "So this says that women are 0.7% *more likely to vote (in North Carolina) then men.*\n",
    "\n",
    "Now let's try a more interesting example: Democrats. "
   ]
  },
  {
   "cell_type": "code",
   "execution_count": 4,
   "metadata": {},
   "outputs": [
    {
     "data": {
      "text/html": [
       "<ol class=list-inline>\n",
       "\t<li>UNAFFILIATED</li>\n",
       "\t<li>DEMOCRATIC</li>\n",
       "\t<li>REPUBLICAN</li>\n",
       "</ol>\n",
       "\n",
       "<details>\n",
       "\t<summary style=display:list-item;cursor:pointer>\n",
       "\t\t<strong>Levels</strong>:\n",
       "\t</summary>\n",
       "\t<ol class=list-inline>\n",
       "\t\t<li>'DEMOCRATIC'</li>\n",
       "\t\t<li>'REPUBLICAN'</li>\n",
       "\t\t<li>'UNAFFILIATED'</li>\n",
       "\t</ol>\n",
       "</details>"
      ],
      "text/latex": [
       "\\begin{enumerate*}\n",
       "\\item UNAFFILIATED\n",
       "\\item DEMOCRATIC\n",
       "\\item REPUBLICAN\n",
       "\\end{enumerate*}\n",
       "\n",
       "\\emph{Levels}: \\begin{enumerate*}\n",
       "\\item 'DEMOCRATIC'\n",
       "\\item 'REPUBLICAN'\n",
       "\\item 'UNAFFILIATED'\n",
       "\\end{enumerate*}\n"
      ],
      "text/markdown": [
       "1. UNAFFILIATED\n",
       "2. DEMOCRATIC\n",
       "3. REPUBLICAN\n",
       "\n",
       "\n",
       "\n",
       "**Levels**: 1. 'DEMOCRATIC'\n",
       "2. 'REPUBLICAN'\n",
       "3. 'UNAFFILIATED'\n",
       "\n",
       "\n"
      ],
      "text/plain": [
       "[1] UNAFFILIATED DEMOCRATIC   REPUBLICAN  \n",
       "Levels: DEMOCRATIC REPUBLICAN UNAFFILIATED"
      ]
     },
     "metadata": {},
     "output_type": "display_data"
    }
   ],
   "source": [
    "unique(voters$party) # OK, note here that there are THREE party registrations in this data. "
   ]
  },
  {
   "cell_type": "code",
   "execution_count": 5,
   "metadata": {},
   "outputs": [
    {
     "data": {
      "text/html": [
       "<table>\n",
       "<thead><tr><th scope=col>age</th><th scope=col>gender</th><th scope=col>voted</th><th scope=col>party</th><th scope=col>race</th><th scope=col>female</th><th scope=col>democrat</th></tr></thead>\n",
       "<tbody>\n",
       "\t<tr><td>71                       </td><td>FEMALE                   </td><td>1                        </td><td>UNAFFILIATED             </td><td>WHITE                    </td><td>1                        </td><td>0                        </td></tr>\n",
       "\t<tr><td>47                       </td><td>MALE                     </td><td>1                        </td><td>UNAFFILIATED             </td><td>WHITE                    </td><td>0                        </td><td>0                        </td></tr>\n",
       "\t<tr><td>29                       </td><td>MALE                     </td><td>0                        </td><td>DEMOCRATIC               </td><td>WHITE                    </td><td>0                        </td><td>1                        </td></tr>\n",
       "\t<tr><td>60                       </td><td>MALE                     </td><td>1                        </td><td>REPUBLICAN               </td><td>WHITE                    </td><td>0                        </td><td>0                        </td></tr>\n",
       "\t<tr><td>84                       </td><td>MALE                     </td><td>0                        </td><td>DEMOCRATIC               </td><td>WHITE                    </td><td>0                        </td><td>1                        </td></tr>\n",
       "\t<tr><td>56                       </td><td>MALE                     </td><td>1                        </td><td>DEMOCRATIC               </td><td>BLACK or AFRICAN AMERICAN</td><td>0                        </td><td>1                        </td></tr>\n",
       "</tbody>\n",
       "</table>\n"
      ],
      "text/latex": [
       "\\begin{tabular}{r|lllllll}\n",
       " age & gender & voted & party & race & female & democrat\\\\\n",
       "\\hline\n",
       "\t 71                        & FEMALE                    & 1                         & UNAFFILIATED              & WHITE                     & 1                         & 0                        \\\\\n",
       "\t 47                        & MALE                      & 1                         & UNAFFILIATED              & WHITE                     & 0                         & 0                        \\\\\n",
       "\t 29                        & MALE                      & 0                         & DEMOCRATIC                & WHITE                     & 0                         & 1                        \\\\\n",
       "\t 60                        & MALE                      & 1                         & REPUBLICAN                & WHITE                     & 0                         & 0                        \\\\\n",
       "\t 84                        & MALE                      & 0                         & DEMOCRATIC                & WHITE                     & 0                         & 1                        \\\\\n",
       "\t 56                        & MALE                      & 1                         & DEMOCRATIC                & BLACK or AFRICAN AMERICAN & 0                         & 1                        \\\\\n",
       "\\end{tabular}\n"
      ],
      "text/markdown": [
       "\n",
       "age | gender | voted | party | race | female | democrat | \n",
       "|---|---|---|---|---|---|\n",
       "| 71                        | FEMALE                    | 1                         | UNAFFILIATED              | WHITE                     | 1                         | 0                         | \n",
       "| 47                        | MALE                      | 1                         | UNAFFILIATED              | WHITE                     | 0                         | 0                         | \n",
       "| 29                        | MALE                      | 0                         | DEMOCRATIC                | WHITE                     | 0                         | 1                         | \n",
       "| 60                        | MALE                      | 1                         | REPUBLICAN                | WHITE                     | 0                         | 0                         | \n",
       "| 84                        | MALE                      | 0                         | DEMOCRATIC                | WHITE                     | 0                         | 1                         | \n",
       "| 56                        | MALE                      | 1                         | DEMOCRATIC                | BLACK or AFRICAN AMERICAN | 0                         | 1                         | \n",
       "\n",
       "\n"
      ],
      "text/plain": [
       "  age gender voted party        race                      female democrat\n",
       "1 71  FEMALE 1     UNAFFILIATED WHITE                     1      0       \n",
       "2 47  MALE   1     UNAFFILIATED WHITE                     0      0       \n",
       "3 29  MALE   0     DEMOCRATIC   WHITE                     0      1       \n",
       "4 60  MALE   1     REPUBLICAN   WHITE                     0      0       \n",
       "5 84  MALE   0     DEMOCRATIC   WHITE                     0      1       \n",
       "6 56  MALE   1     DEMOCRATIC   BLACK or AFRICAN AMERICAN 0      1       "
      ]
     },
     "metadata": {},
     "output_type": "display_data"
    }
   ],
   "source": [
    "# So let's do the same thing as before for democrats\n",
    "voters$democrat = as.numeric(voters$party == \"DEMOCRATIC\")\n",
    "head(voters)"
   ]
  },
  {
   "cell_type": "code",
   "execution_count": 6,
   "metadata": {},
   "outputs": [
    {
     "data": {
      "text/plain": [
       "\n",
       "Call:\n",
       "lm(formula = voted ~ democrat, data = voters)\n",
       "\n",
       "Coefficients:\n",
       "(Intercept)     democrat  \n",
       "    0.77535     -0.05619  \n"
      ]
     },
     "metadata": {},
     "output_type": "display_data"
    }
   ],
   "source": [
    "lm(voted ~ democrat, voters)"
   ]
  },
  {
   "cell_type": "markdown",
   "metadata": {},
   "source": [
    "So now how do we interpret this coefficient on Democrats (-0.05)? As before it's the average **DIFFERENCE** in the dependent variable between the indicated group (democrats) and the reference group. But what's the reference group? Republicans?\n",
    "\n",
    "No -- the **reference group** or **omitted category** is anyone for whom the indicator variable is always zero -- in this case, all non-democrats, whether they're Republicans or Unaffiliated. \n",
    "\n",
    "So this result says that Democrats are less likely to vote than non-democrats, but NOT that they're less likely to vote than republicans per se. \n",
    "\n",
    "So how do we deal with multiple categories? With multiple indicator variables!"
   ]
  },
  {
   "cell_type": "markdown",
   "metadata": {},
   "source": [
    "# Indicator Variables for variables with more than 2 categories\n",
    "\n",
    "To deal with categorical variables with more than 2 categories, we create indicator variables for all values of the variable *except one*. The one group for which we do not create an indicator variable will become the **reference group** for the regression. The choice of which value to make the referee category won't substantively change the results of the regression -- for example, if you also have a control for age, the coefficient on age will always be the same regardless of the reference group used -- but it does influence how easily you can interpret the results of the regression. \n",
    "\n",
    "So since we're interested in the difference in turnout between Democrats and Republicans, let's make Republicans the reference category, and make dummies for democrats and unaffiliated voters. "
   ]
  },
  {
   "cell_type": "code",
   "execution_count": 7,
   "metadata": {},
   "outputs": [
    {
     "data": {
      "text/html": [
       "<table>\n",
       "<thead><tr><th scope=col>age</th><th scope=col>gender</th><th scope=col>voted</th><th scope=col>party</th><th scope=col>race</th><th scope=col>female</th><th scope=col>democrat</th><th scope=col>unaffiliated</th></tr></thead>\n",
       "<tbody>\n",
       "\t<tr><td>71                       </td><td>FEMALE                   </td><td>1                        </td><td>UNAFFILIATED             </td><td>WHITE                    </td><td>1                        </td><td>0                        </td><td>1                        </td></tr>\n",
       "\t<tr><td>47                       </td><td>MALE                     </td><td>1                        </td><td>UNAFFILIATED             </td><td>WHITE                    </td><td>0                        </td><td>0                        </td><td>1                        </td></tr>\n",
       "\t<tr><td>29                       </td><td>MALE                     </td><td>0                        </td><td>DEMOCRATIC               </td><td>WHITE                    </td><td>0                        </td><td>1                        </td><td>0                        </td></tr>\n",
       "\t<tr><td>60                       </td><td>MALE                     </td><td>1                        </td><td>REPUBLICAN               </td><td>WHITE                    </td><td>0                        </td><td>0                        </td><td>0                        </td></tr>\n",
       "\t<tr><td>84                       </td><td>MALE                     </td><td>0                        </td><td>DEMOCRATIC               </td><td>WHITE                    </td><td>0                        </td><td>1                        </td><td>0                        </td></tr>\n",
       "\t<tr><td>56                       </td><td>MALE                     </td><td>1                        </td><td>DEMOCRATIC               </td><td>BLACK or AFRICAN AMERICAN</td><td>0                        </td><td>1                        </td><td>0                        </td></tr>\n",
       "</tbody>\n",
       "</table>\n"
      ],
      "text/latex": [
       "\\begin{tabular}{r|llllllll}\n",
       " age & gender & voted & party & race & female & democrat & unaffiliated\\\\\n",
       "\\hline\n",
       "\t 71                        & FEMALE                    & 1                         & UNAFFILIATED              & WHITE                     & 1                         & 0                         & 1                        \\\\\n",
       "\t 47                        & MALE                      & 1                         & UNAFFILIATED              & WHITE                     & 0                         & 0                         & 1                        \\\\\n",
       "\t 29                        & MALE                      & 0                         & DEMOCRATIC                & WHITE                     & 0                         & 1                         & 0                        \\\\\n",
       "\t 60                        & MALE                      & 1                         & REPUBLICAN                & WHITE                     & 0                         & 0                         & 0                        \\\\\n",
       "\t 84                        & MALE                      & 0                         & DEMOCRATIC                & WHITE                     & 0                         & 1                         & 0                        \\\\\n",
       "\t 56                        & MALE                      & 1                         & DEMOCRATIC                & BLACK or AFRICAN AMERICAN & 0                         & 1                         & 0                        \\\\\n",
       "\\end{tabular}\n"
      ],
      "text/markdown": [
       "\n",
       "age | gender | voted | party | race | female | democrat | unaffiliated | \n",
       "|---|---|---|---|---|---|\n",
       "| 71                        | FEMALE                    | 1                         | UNAFFILIATED              | WHITE                     | 1                         | 0                         | 1                         | \n",
       "| 47                        | MALE                      | 1                         | UNAFFILIATED              | WHITE                     | 0                         | 0                         | 1                         | \n",
       "| 29                        | MALE                      | 0                         | DEMOCRATIC                | WHITE                     | 0                         | 1                         | 0                         | \n",
       "| 60                        | MALE                      | 1                         | REPUBLICAN                | WHITE                     | 0                         | 0                         | 0                         | \n",
       "| 84                        | MALE                      | 0                         | DEMOCRATIC                | WHITE                     | 0                         | 1                         | 0                         | \n",
       "| 56                        | MALE                      | 1                         | DEMOCRATIC                | BLACK or AFRICAN AMERICAN | 0                         | 1                         | 0                         | \n",
       "\n",
       "\n"
      ],
      "text/plain": [
       "  age gender voted party        race                      female democrat\n",
       "1 71  FEMALE 1     UNAFFILIATED WHITE                     1      0       \n",
       "2 47  MALE   1     UNAFFILIATED WHITE                     0      0       \n",
       "3 29  MALE   0     DEMOCRATIC   WHITE                     0      1       \n",
       "4 60  MALE   1     REPUBLICAN   WHITE                     0      0       \n",
       "5 84  MALE   0     DEMOCRATIC   WHITE                     0      1       \n",
       "6 56  MALE   1     DEMOCRATIC   BLACK or AFRICAN AMERICAN 0      1       \n",
       "  unaffiliated\n",
       "1 1           \n",
       "2 1           \n",
       "3 0           \n",
       "4 0           \n",
       "5 0           \n",
       "6 0           "
      ]
     },
     "metadata": {},
     "output_type": "display_data"
    }
   ],
   "source": [
    "voters$unaffiliated = as.numeric(voters$party == \"UNAFFILIATED\")\n",
    "head(voters)"
   ]
  },
  {
   "cell_type": "code",
   "execution_count": 8,
   "metadata": {},
   "outputs": [
    {
     "data": {
      "text/plain": [
       "\n",
       "Call:\n",
       "lm(formula = voted ~ democrat + unaffiliated, data = voters)\n",
       "\n",
       "Residuals:\n",
       "    Min      1Q  Median      3Q     Max \n",
       "-0.7988  0.2012  0.2012  0.2808  0.2808 \n",
       "\n",
       "Coefficients:\n",
       "              Estimate Std. Error t value Pr(>|t|)    \n",
       "(Intercept)   0.798811   0.007438 107.399  < 2e-16 ***\n",
       "democrat     -0.079652   0.009868  -8.072 7.74e-16 ***\n",
       "unaffiliated -0.060559   0.011950  -5.068 4.10e-07 ***\n",
       "---\n",
       "Signif. codes:  0 ‘***’ 0.001 ‘**’ 0.01 ‘*’ 0.05 ‘.’ 0.1 ‘ ’ 1\n",
       "\n",
       "Residual standard error: 0.4315 on 9916 degrees of freedom\n",
       "Multiple R-squared:  0.006737,\tAdjusted R-squared:  0.006536 \n",
       "F-statistic: 33.63 on 2 and 9916 DF,  p-value: 2.786e-15\n"
      ]
     },
     "metadata": {},
     "output_type": "display_data"
    }
   ],
   "source": [
    "summary(lm(voted ~ democrat + unaffiliated, voters))"
   ]
  },
  {
   "cell_type": "markdown",
   "metadata": {},
   "source": [
    "So how do we interpret this? \n",
    "\n",
    "First, we see that the coefficient on democrat is -0.08. That means that the DIFFERENCE in turnout between democrats and the reference group (here, Republicans) is 8%. So democrats have 8 percent point lower turnout on average in this data than Republicans. \n",
    "\n",
    "Second, we see that the coefficient on unaffiliated is -0.06. That means that the DIFFERENCE in turnout between unaffiliated voters and the reference group (here, Republicans) is 6%. So democrats have 6 percent point lower turnout on average in this data than Republicans. \n",
    "\n",
    "Moreover, the p-value on these indicator variables tells us if these differences are significant. And indeed, they show clearly that the difference between democrats and republicans is significant (p-value = 7.7e-16), and the difference between unaffiliated voters and republicans is significanct (p-value = 4.1e-07). \n",
    "\n",
    "But what about the difference between democrats and unaffiliated voters? Well, turns out the regression doesn't give us that directly. To get that, we have to do some additional math. \n",
    "\n",
    "For example, the difference between democrats and unaffiliated voters is equal to:\n",
    "\n",
    "dem - unaffiliated = (dem - republican) - (unaffiliated - republican)\n",
    "                   \\= -0.079652 - -0.060559\n",
    "                   \\= -0.019093\n",
    "                   \n",
    "So in other words, dems have 2 percentage point lower turnout than unaffiliated voters. \n",
    "\n",
    "But is this difference statistically significant? For that we use the LinearHypothesis function from the `car` library:"
   ]
  },
  {
   "cell_type": "code",
   "execution_count": 14,
   "metadata": {},
   "outputs": [
    {
     "data": {
      "text/html": [
       "<table>\n",
       "<thead><tr><th scope=col>Res.Df</th><th scope=col>RSS</th><th scope=col>Df</th><th scope=col>Sum of Sq</th><th scope=col>F</th><th scope=col>Pr(&gt;F)</th></tr></thead>\n",
       "<tbody>\n",
       "\t<tr><td>9917      </td><td>1846.441  </td><td>NA        </td><td>      NA  </td><td>      NA  </td><td>        NA</td></tr>\n",
       "\t<tr><td>9916      </td><td>1845.917  </td><td> 1        </td><td>0.523837  </td><td>2.813977  </td><td>0.09347796</td></tr>\n",
       "</tbody>\n",
       "</table>\n"
      ],
      "text/latex": [
       "\\begin{tabular}{r|llllll}\n",
       " Res.Df & RSS & Df & Sum of Sq & F & Pr(>F)\\\\\n",
       "\\hline\n",
       "\t 9917       & 1846.441   & NA         &       NA   &       NA   &         NA\\\\\n",
       "\t 9916       & 1845.917   &  1         & 0.523837   & 2.813977   & 0.09347796\\\\\n",
       "\\end{tabular}\n"
      ],
      "text/markdown": [
       "\n",
       "Res.Df | RSS | Df | Sum of Sq | F | Pr(>F) | \n",
       "|---|---|\n",
       "| 9917       | 1846.441   | NA         |       NA   |       NA   |         NA | \n",
       "| 9916       | 1845.917   |  1         | 0.523837   | 2.813977   | 0.09347796 | \n",
       "\n",
       "\n"
      ],
      "text/plain": [
       "  Res.Df RSS      Df Sum of Sq F        Pr(>F)    \n",
       "1 9917   1846.441 NA       NA        NA         NA\n",
       "2 9916   1845.917  1 0.523837  2.813977 0.09347796"
      ]
     },
     "metadata": {},
     "output_type": "display_data"
    }
   ],
   "source": [
    "#install.packages(\"car\")\n",
    "library(car)\n",
    "result = lm(voted ~ democrat + unaffiliated, voters)\n",
    "linearHypothesis(result, \"democrat = unaffiliated\")"
   ]
  },
  {
   "cell_type": "markdown",
   "metadata": {},
   "source": [
    "Voila -- p-value of 0.09.\n",
    "\n",
    "Wanna confirm it? let's change our reference group to unaffiliated. then look at the coefficient on democrat, which will then be the difference between democrats and the new reference group (unaffiliated voters)"
   ]
  },
  {
   "cell_type": "code",
   "execution_count": 18,
   "metadata": {},
   "outputs": [
    {
     "data": {
      "text/plain": [
       "\n",
       "Call:\n",
       "lm(formula = voted ~ democrat + republican, data = voters)\n",
       "\n",
       "Residuals:\n",
       "    Min      1Q  Median      3Q     Max \n",
       "-0.7988  0.2012  0.2012  0.2808  0.2808 \n",
       "\n",
       "Coefficients:\n",
       "             Estimate Std. Error t value Pr(>|t|)    \n",
       "(Intercept)  0.738252   0.009353  78.932  < 2e-16 ***\n",
       "democrat    -0.019092   0.011382  -1.677   0.0935 .  \n",
       "republican   0.060559   0.011950   5.068  4.1e-07 ***\n",
       "---\n",
       "Signif. codes:  0 ‘***’ 0.001 ‘**’ 0.01 ‘*’ 0.05 ‘.’ 0.1 ‘ ’ 1\n",
       "\n",
       "Residual standard error: 0.4315 on 9916 degrees of freedom\n",
       "Multiple R-squared:  0.006737,\tAdjusted R-squared:  0.006536 \n",
       "F-statistic: 33.63 on 2 and 9916 DF,  p-value: 2.786e-15\n"
      ]
     },
     "metadata": {},
     "output_type": "display_data"
    }
   ],
   "source": [
    "voters$republican = as.numeric(voters$party == \"REPUBLICAN\")\n",
    "summary(lm(voted ~ democrat + republican, voters))"
   ]
  },
  {
   "cell_type": "markdown",
   "metadata": {},
   "source": [
    "As we can now see, the coefficient on democrat (now difference between democrat and unaffiliated) is what we'd calculated above (-0.019) and has the p-value we calculated previously (0.09). This just goes to show that the choice of reference group doesn't change what's actually being estimated, it just changes the interpretation of coefficients and what statistics pop right out of the regression output, and which values require a little extra work.\n",
    "\n",
    "\n",
    "One other quick note: indicator variables as so common that there's a shorthand to ask R to just make the indicators when it's running the regression -- `factor()`. This often works well, but by default it makes the first value in the variable the reference group, which can be annoying. So to run a regression with indicator variables for party, instead of `lm(voted ~ democrat + unaffiliated, voters)`, you can run: "
   ]
  },
  {
   "cell_type": "code",
   "execution_count": 10,
   "metadata": {},
   "outputs": [
    {
     "data": {
      "text/plain": [
       "\n",
       "Call:\n",
       "lm(formula = voted ~ factor(party), data = voters)\n",
       "\n",
       "Coefficients:\n",
       "              (Intercept)    factor(party)REPUBLICAN  \n",
       "                  0.71916                    0.07965  \n",
       "factor(party)UNAFFILIATED  \n",
       "                  0.01909  \n"
      ]
     },
     "metadata": {},
     "output_type": "display_data"
    }
   ],
   "source": [
    "lm(voted ~ factor(party), voters)"
   ]
  },
  {
   "cell_type": "markdown",
   "metadata": {},
   "source": [
    "# Interactions: Like plain indicators, but for differences in SLOPE rather than differences in LEVELS\n",
    "\n",
    "Congratulations! You're a pro at indicator variables. But now let's say you want to do INTERACTIONS!\n",
    "\n",
    "Interactions (where you interact an indicator variable with a continuous variable) is just like a regular interaction variable, except that instead of reporting the difference in **average value** of the dependent variable between the indicated group and the reference group, the coefficient on an interaction term is the **DIFFERENCE** in the **SLOPE** associated with the continous variable between the indicated group and the reference group. \n",
    "\n",
    "Let's be concrete: let's suppose we think that turnout among men increases as they get older by a larger amount than for women. In other words, we think that turnout increases with age for both groups, but that there's a **DIFFERENCE** in the amount it increases with age. \n",
    "\n",
    "To test this, we need to create some interaction terms. But first, a quick note: when doing interactions, it's critical to not only include all the interaction terms that interest you, but also all the variables in the interaction as stand-alone variables. So for this we want `age` interacted with `female`. But while the coefficient on that estimate is what we're interested in, to get the right results we also need to include just `age` and just `female`.\n"
   ]
  },
  {
   "cell_type": "code",
   "execution_count": 11,
   "metadata": {},
   "outputs": [
    {
     "data": {
      "text/plain": [
       "\n",
       "Call:\n",
       "lm(formula = voted ~ female + age + age_x_female, data = voters)\n",
       "\n",
       "Residuals:\n",
       "    Min      1Q  Median      3Q     Max \n",
       "-0.7953  0.2047  0.2443  0.2535  0.2817 \n",
       "\n",
       "Coefficients:\n",
       "               Estimate Std. Error t value Pr(>|t|)    \n",
       "(Intercept)   0.6960718  0.0246740  28.211  < 2e-16 ***\n",
       "female        0.0933369  0.0330511   2.824  0.00475 ** \n",
       "age           0.0008553  0.0004069   2.102  0.03559 *  \n",
       "age_x_female -0.0014570  0.0005411  -2.693  0.00710 ** \n",
       "---\n",
       "Signif. codes:  0 ‘***’ 0.001 ‘**’ 0.01 ‘*’ 0.05 ‘.’ 0.1 ‘ ’ 1\n",
       "\n",
       "Residual standard error: 0.4328 on 9915 degrees of freedom\n",
       "Multiple R-squared:  0.0008071,\tAdjusted R-squared:  0.0005047 \n",
       "F-statistic:  2.67 on 3 and 9915 DF,  p-value: 0.04589\n"
      ]
     },
     "metadata": {},
     "output_type": "display_data"
    }
   ],
   "source": [
    "voters$age_x_female = voters$age * voters$female\n",
    "summary(lm(voted ~ female + age + age_x_female, voters))"
   ]
  },
  {
   "cell_type": "markdown",
   "metadata": {},
   "source": [
    "Ok, so the coefficient on our interaction is -0.001457. Does that mean that as women get older, their turnout rate declines by -0.145 percentage points per year? **NO!**\n",
    "\n",
    "It says that women's turnout rate declines by -0.145 percentage points per year LESS THAN MEN'S DECLINE. It is the **DIFFERENCE** in slopes between the two groups.\n",
    "\n",
    "The coefficient on `age` tells us how turnout varies with age **for the reference group**. So it says that for men, turnout increases by 0.09 percentage points per year. \n",
    "\n",
    "But if you want to know how women's turnout varies with age, you have to **ADD** the coefficient on `age` (the rate of change for me) plus the coefficient on `age_x_female` (the difference between the rate of men and women). \n",
    "\n",
    "\n",
    "So going through all these coefficients, we have: \n",
    "\n",
    "`female` (0.09): Controlling for age, women are 9 percentage points more likely to vote than men. \n",
    "`age` (0.0009): As men get one year older, they become 0.1 percentage point more likely to vote. \n",
    "`age_x_female` (-0.0015): As women get one year older, the likelihood they vote increases by -0.1 percentage point *less* than men. \n",
    "\n",
    "So how much does women's turnout increase if they age one year? 0.0008553 + -0.0014570 = -0.0006. So it actually declines by 0.06 percentage points a year. \n",
    "\n",
    "Now let's talk statistical significance. The p-value on age shows us that there's a statistically significant relationship between age and turnout **for men**. The p-value for `age_x_female` tells us that there's a statistically significant **difference** between men and women in how turnout varies with age. But is there a statistically significant relationship between age and turnout for women?\n",
    "\n",
    "Again, we don't actually get an answer from our regression. To see, we have to run the following: \n"
   ]
  },
  {
   "cell_type": "code",
   "execution_count": 15,
   "metadata": {},
   "outputs": [
    {
     "data": {
      "text/html": [
       "<table>\n",
       "<thead><tr><th scope=col>Res.Df</th><th scope=col>RSS</th><th scope=col>Df</th><th scope=col>Sum of Sq</th><th scope=col>F</th><th scope=col>Pr(&gt;F)</th></tr></thead>\n",
       "<tbody>\n",
       "\t<tr><td>9916      </td><td>1857.470  </td><td>NA        </td><td>       NA </td><td>     NA   </td><td>        NA</td></tr>\n",
       "\t<tr><td>9915      </td><td>1856.937  </td><td> 1        </td><td>0.5331515 </td><td>2.84673   </td><td>0.09159147</td></tr>\n",
       "</tbody>\n",
       "</table>\n"
      ],
      "text/latex": [
       "\\begin{tabular}{r|llllll}\n",
       " Res.Df & RSS & Df & Sum of Sq & F & Pr(>F)\\\\\n",
       "\\hline\n",
       "\t 9916       & 1857.470   & NA         &        NA  &      NA    &         NA\\\\\n",
       "\t 9915       & 1856.937   &  1         & 0.5331515  & 2.84673    & 0.09159147\\\\\n",
       "\\end{tabular}\n"
      ],
      "text/markdown": [
       "\n",
       "Res.Df | RSS | Df | Sum of Sq | F | Pr(>F) | \n",
       "|---|---|\n",
       "| 9916       | 1857.470   | NA         |        NA  |      NA    |         NA | \n",
       "| 9915       | 1856.937   |  1         | 0.5331515  | 2.84673    | 0.09159147 | \n",
       "\n",
       "\n"
      ],
      "text/plain": [
       "  Res.Df RSS      Df Sum of Sq F       Pr(>F)    \n",
       "1 9916   1857.470 NA        NA      NA         NA\n",
       "2 9915   1856.937  1 0.5331515 2.84673 0.09159147"
      ]
     },
     "metadata": {},
     "output_type": "display_data"
    }
   ],
   "source": [
    "result = lm(voted ~ female + age + age_x_female, voters)\n",
    "linearHypothesis(result, \"age + age_x_female = 0\")"
   ]
  },
  {
   "cell_type": "markdown",
   "metadata": {},
   "source": [
    "So the p-value is 0.09 for the relationship between female and age."
   ]
  }
 ],
 "metadata": {
  "kernelspec": {
   "display_name": "R",
   "language": "R",
   "name": "ir"
  },
  "language_info": {
   "codemirror_mode": "r",
   "file_extension": ".r",
   "mimetype": "text/x-r-source",
   "name": "R",
   "pygments_lexer": "r",
   "version": "3.4.1"
  }
 },
 "nbformat": 4,
 "nbformat_minor": 2
}
