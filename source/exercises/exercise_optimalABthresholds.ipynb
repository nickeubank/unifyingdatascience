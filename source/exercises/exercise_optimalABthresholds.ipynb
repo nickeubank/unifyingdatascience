{
 "cells": [
  {
   "attachments": {},
   "cell_type": "markdown",
   "metadata": {},
   "source": [
    "# Optimal AB Testing Design\n",
    "\n",
    "In these exercises, we will play with the optimal AB testing planner created by Georgi Georgiev and described in his book [Statistical Methods in Online AB Testing](https://www.amazon.com/Statistical-Methods-Online-Testing-commerce/dp/1694079724). \n",
    "\n",
    "In particular, we will be using the interactive tool available at [www.analytics-toolkit.com](https://www.analytics-toolkit.com/tools/stats/ab-test-planner.php). Note that you will need to create an account to use this website, but you can use it free for two weeks, which is more than enough time to do this exercise!\n",
    "\n",
    "## The Experiment\n",
    "\n",
    "You're running an A/B test for an e-commerce website to test the effect of a new generation of processor on latency (the delay users experience when they load your site/click a link on your site). \n",
    "\n",
    "You know from past data that higher latency tends to reduce sales, so you're hoping that the chip will reduce latency enough to justify its higher cost. In particular, you've discovered that sales fall by 0.05% for every 1 millisecond in latency your website experiences.\n",
    "\n",
    "In particular, you know that the chip will pay for itself if it reduces latency by 2 milliseconds. Any change smaller than 2 milliseconds (or god forbid any *increase* in latency!) and the chips won't be worth the cost; any decreases in latency greater than 2 milliseconds and you start to make money. 2 milliseconds is the break-even point, but we'd be making about 500,000 dollars a year in profit if we got to 2.5 milliseconds. \n",
    "\n",
    "Moreover, assume that changing chips is costly and hard to reverse (the cost in terms of parts and labor are taken into account in the math above, but the effort takes some time away from other things, so you want to avoid a change that won't generate profits.)\n",
    "\n",
    "Suppose that after running the experiment, you find that (a) all your data suggests the experiment went well (everything you did in Question 9 looked good), and (b) you estimate that the chip reduces latency by 1 millisecond with a 90% confidence interval of +/- 1 millisecond. What would you recommend?\n"
   ]
  },
  {
   "attachments": {},
   "cell_type": "markdown",
   "metadata": {},
   "source": [
    "You have permission to experiment on as many as 100,000 users a week for two weeks.\n",
    "\n",
    " site experiences about 20 million page views a week, and the current average latency for users is 50ms, with a standard deviation of 15ms. \n",
    "\n",
    "Start with a 95% confidence threshold (the optimizer will offer suggested changes, don't worry :)), and plan on running your experiment for three weeks (this is a big deal! We wanna make sure there aren't any short term seasonal issues coloring results).\n",
    "\n",
    "Assume we're doing a single evaluation (instead of sequential testing with AGILE p-values or some other form of always-valid p-value calculations). This just makes things easier to understand.\n",
    "\n",
    "Further, assume we expect the new chips to be valuable for about three years, and assume you *expect* the chips to reduce latency by 1.5ms. Your guess is reasonably normally distributed with a standard deviation of .5ms.\n",
    "\n",
    "(Note if you hover over the \"effect expectation\" fields you can get some advice on how to interpet the given terms used. Recall 99.7% of the probability density under a normal distribution is within +/- 3 standard deviations of the mean).\n",
    "\n",
    "Finally, note that this always tests the treated condition against 0. "
   ]
  },
  {
   "attachments": {},
   "cell_type": "markdown",
   "metadata": {},
   "source": [
    "What is the average *lift* you're guessing you'll get?"
   ]
  },
  {
   "cell_type": "code",
   "execution_count": 21,
   "metadata": {},
   "outputs": [
    {
     "data": {
      "text/plain": [
       "-0.25"
      ]
     },
     "execution_count": 21,
     "metadata": {},
     "output_type": "execute_result"
    }
   ],
   "source": [
    "-0.5 * .5"
   ]
  },
  {
   "attachments": {},
   "cell_type": "markdown",
   "metadata": {},
   "source": [
    "## Question 2\n",
    "\n",
    "What \"Expectation range\" should you put in?\n",
    "\n",
    "(Note if you hover over the \"effect expectation\" fields you can get some advice on how to interpret the given terms used. Recall 99.7% of the probability density under a normal distribution is within +/- 3 standard deviations of the mean).\n"
   ]
  },
  {
   "cell_type": "code",
   "execution_count": 22,
   "metadata": {},
   "outputs": [
    {
     "data": {
      "text/plain": [
       "1.5"
      ]
     },
     "execution_count": 22,
     "metadata": {},
     "output_type": "execute_result"
    }
   ],
   "source": [
    "0.5 * 6 * .5"
   ]
  },
  {
   "attachments": {},
   "cell_type": "markdown",
   "metadata": {},
   "source": [
    "## Question 3\n",
    "\n",
    "What p-value does "
   ]
  },
  {
   "cell_type": "code",
   "execution_count": null,
   "metadata": {},
   "outputs": [],
   "source": [
    "print(f\"\")"
   ]
  }
 ],
 "metadata": {
  "kernelspec": {
   "display_name": "base",
   "language": "python",
   "name": "python3"
  },
  "language_info": {
   "codemirror_mode": {
    "name": "ipython",
    "version": 3
   },
   "file_extension": ".py",
   "mimetype": "text/x-python",
   "name": "python",
   "nbconvert_exporter": "python",
   "pygments_lexer": "ipython3",
   "version": "3.10.8"
  },
  "orig_nbformat": 4
 },
 "nbformat": 4,
 "nbformat_minor": 2
}
