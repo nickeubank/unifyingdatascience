{
 "cells": [
  {
   "cell_type": "markdown",
   "metadata": {},
   "source": [
    "# Generating and Classifying Questions"
   ]
  },
  {
   "cell_type": "markdown",
   "metadata": {},
   "source": [
    "## Exercise 1\n",
    "\n",
    "You have been hired by a large policy think tank that's interested in reducing the energy consumption of buildings to combat global warming. The think tank would like you to do research in the area of building energy consumption. This research may have immediate policy implications, or may be \"fundamental research\" whose policy relevance is not immediately clear. \n",
    "\n",
    "As a group, generate three quantitative questions -- one descriptive, one causal, and one predictive -- you might wish to answer to improve our knowledge in this domain. Make sure that your questions are (a) specific and (b) answerable, meaning that your question should be specific enough that if someone gave you the question and asked you to answer it, you wouldn't have to think too hard about what to do first. \n",
    "\n",
    "For example, a non-specific, non-answerable question would be: \"what policies cause reductions in building energy efficiency?\", while a specific, answerable question would be \"do tax credits for LEED certification lead to the construction of more energy efficient buildings?\" (and no, you may not use that example as one of your questions!). \n",
    "\n",
    "#### Descriptive Question\n",
    "\n",
    "```\n",
    "\n",
    "\n",
    "\n",
    "\n",
    "```\n",
    "\n",
    "\n",
    "\n",
    "#### Causal Question\n",
    "\n",
    "```\n",
    "\n",
    "\n",
    "\n",
    "\n",
    "```\n",
    "\n",
    "\n",
    "#### Predictive Question\n",
    "\n",
    "```\n",
    "\n",
    "\n",
    "\n",
    "\n",
    "```"
   ]
  },
  {
   "cell_type": "markdown",
   "metadata": {},
   "source": [
    "## Exercise 2\n",
    "\n",
    "You have been hired by the US Bureau of Prisons to help reduce recitivism (people who have been released from prison later returning to prison for committing other crimes) among former inmates. The Bureau of Prisons is curious both about what could be done in prisons, and what can be done post-release to reduce recitivism. \n",
    "\n",
    "Once more, as a group generate three specific, answerable quantitative questions -- one descriptive, one causal, and one predictive -- you might wish to answer to improve our knowledge in this domain.\n",
    "\n",
    "\n",
    "\n",
    "#### Descriptive Question\n",
    "\n",
    "```\n",
    "\n",
    "\n",
    "\n",
    "\n",
    "```\n",
    "\n",
    "\n",
    "\n",
    "#### Causal Question\n",
    "\n",
    "```\n",
    "\n",
    "\n",
    "\n",
    "\n",
    "```\n",
    "\n",
    "\n",
    "#### Predictive Question\n",
    "\n",
    "```\n",
    "\n",
    "\n",
    "\n",
    "\n",
    "```"
   ]
  }
 ],
 "metadata": {
  "kernelspec": {
   "display_name": "Python 3",
   "language": "python",
   "name": "python3"
  },
  "language_info": {
   "codemirror_mode": {
    "name": "ipython",
    "version": 3
   },
   "file_extension": ".py",
   "mimetype": "text/x-python",
   "name": "python",
   "nbconvert_exporter": "python",
   "pygments_lexer": "ipython3",
   "version": "3.7.3"
  }
 },
 "nbformat": 4,
 "nbformat_minor": 4
}
