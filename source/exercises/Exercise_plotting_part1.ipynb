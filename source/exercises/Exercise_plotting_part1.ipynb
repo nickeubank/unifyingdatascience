{
 "cells": [
  {
   "cell_type": "markdown",
   "metadata": {},
   "source": [
    "# Plotting Exercises, Part 1"
   ]
  },
  {
   "cell_type": "markdown",
   "metadata": {},
   "source": [
    "### Exercise 1\n",
    "\n",
    "Create a pandas dataframe from the \"Datasaurus.txt\" file using the code: "
   ]
  },
  {
   "cell_type": "code",
   "execution_count": 1,
   "metadata": {},
   "outputs": [],
   "source": [
    "import pandas as pd\n",
    "df = pd.read_csv('https://raw.githubusercontent.com/nickeubank/practicaldatascience/master/Example_Data/Datasaurus.txt', delimiter='\\t')"
   ]
  },
  {
   "cell_type": "markdown",
   "metadata": {},
   "source": [
    "Note that the file being downloaded is *not* actually a CSV file. It is tab-delimited, meaning that within each row, columns are separated by tabs rather than commas. We communicate this to pandas with the `delimiter=\"\\t\"` option (`\"\\t\"` is how we write a tab, as we will discuss in future lessons). "
   ]
  },
  {
   "cell_type": "markdown",
   "metadata": {},
   "source": [
    "### Exercise 2\n",
    "\n",
    "This dataset actually contains 13 separate example datasets, each with two variables named `example[number]_x` and `example[number]_y`. \n",
    "\n",
    "In order to get a better sense of what these datasets look like, write a loop that iterates over each example dataset (numbered 1 to 13) and print out the mean and standard deviation for `example[number]_x` and `example[number]_y` for each dataset. \n",
    "\n",
    "For example, the first iteration of this loop might return something like:\n",
    "\n",
    "```\n",
    "Example Dataset 1: \n",
    "Mean x: 23.12321978429576, \n",
    "Mean y: 98.23980921730972, \n",
    "Std Dev x: 21.2389710287, \n",
    "Std Dev y: 32.2389081209832,\n",
    "Correlation: 0.73892819281\n",
    "```\n",
    "\n",
    "(Though you shouldn't get those specific values)"
   ]
  },
  {
   "cell_type": "markdown",
   "metadata": {},
   "source": [
    "### Exercise 3\n",
    "\n",
    "Based only on these results, discuss what might you conclude about these example datasets with your partner. Write down your thoughts."
   ]
  },
  {
   "cell_type": "markdown",
   "metadata": {},
   "source": [
    "### Execise 4\n",
    "\n",
    "Write a loop that iterates over these example datasets, and using the `plotnine` library, plot a simple scatter plot of each dataset with the `x` variable on the x-axis and the `y` variable on the y-axis. Save these plots as PDFs somewhere you can find them. \n",
    "\n",
    "Hint: When writing this type of code, it is often best to start by writing code to do what you want for the first iteration of the loop. Once you have code that works for the first example dataset, then write the full loop around it. "
   ]
  },
  {
   "cell_type": "markdown",
   "metadata": {},
   "source": [
    "### Exercise 5\n",
    "\n",
    "Review you plots. How does your impression of how these datasets differ from what you wrote down in Exercise 3?"
   ]
  },
  {
   "cell_type": "markdown",
   "metadata": {},
   "source": [
    "## Want More Practice?"
   ]
  },
  {
   "cell_type": "markdown",
   "metadata": {},
   "source": [
    "Download the ACS data you were working with in our last exercise (available here), and let's use it to study how the gender wage gap has changed over generations in the United States. Data for that [can be found here](https://github.com/nickeubank/MIDS_Data/tree/master/US_AmericanCommunitySurvey) (`US_ACS_2017_10pct_sample.dta`).\n",
    "\n",
    "Once you have downloaded the data, plot income among working women and income among working men against age to see how the gender wage gap has evolved from cohort to cohort.\n",
    "\n",
    "Then repeat this analysis by race. Note that in the US Census, \"Hispanic\" is not considered to be a racial category, and so Hispanic Americans are not identified in the `race` variable but instead in the `hispanic` variable. For this analysis, therefore, we want to separate our sample into \"White, Non-Hispanic\", \"White, Hispanic\", \"Black\", and \"Other\". "
   ]
  },
  {
   "cell_type": "markdown",
   "metadata": {},
   "source": [
    "## Absolutely positively need the solutions?\n",
    "\n",
    "*Don't use this link until you've really, really spent time struggling with your code!* Doing so only results in you cheating yourself. \n",
    "\n",
    "[Link](../solutions_warning.ipynb)"
   ]
  }
 ],
 "metadata": {
  "kernelspec": {
   "display_name": "Python 3",
   "language": "python",
   "name": "python3"
  },
  "language_info": {
   "codemirror_mode": {
    "name": "ipython",
    "version": 3
   },
   "file_extension": ".py",
   "mimetype": "text/x-python",
   "name": "python",
   "nbconvert_exporter": "python",
   "pygments_lexer": "ipython3",
   "version": "3.7.3"
  }
 },
 "nbformat": 4,
 "nbformat_minor": 4
}
