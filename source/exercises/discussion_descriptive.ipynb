{
 "cells": [
  {
   "cell_type": "markdown",
   "metadata": {},
   "source": [
    "# Discussion of Descriptive Exercises"
   ]
  },
  {
   "cell_type": "markdown",
   "metadata": {},
   "source": [
    "By now you've probably realized that these data are *not* actually data on police expenditures and crime from Massachusetts, but rather a set of datasets that have been constructed to illustrate how easily summary statistics can lead you wrong. \n",
    "\n",
    "Indeed, *all* of the \"counties\" in this dataset are actually different datasets with the same means, standard deviations, and correlation between the two variables. And yet...\n",
    "\n",
    "## Exercise 8\n",
    "Write a loop that plots the relationship between `policeexpenditures` and `crimeindex` for all 13 counties in the dataset separately!"
   ]
  },
  {
   "cell_type": "markdown",
   "metadata": {},
   "source": [
    "## Takeaways\n",
    "\n",
    "Yup. All remarkably different. \n",
    "\n",
    "While these are especially cute, they are in fact just fancy versions of [Anscombe's Quartet](https://en.wikipedia.org/wiki/Anscombe%27s_quartet) -- a set of four ways in which standard analyses of simple, bi-variate regressions can go wrong. Each of these datasets have the same mean, same variance, same correlation, and same regression line. And yet they are obviously very different -- the first is reasonable, the second doesn't have a linear functional form, the third has an outlier in `y`, and the fourth has a constant `x`, save a single outlier. \n",
    "\n",
    "![anscombes_quartet](../images/Anscombes_quartet.png)\n",
    "\n",
    "\n",
    "And these are just some of the ways that your summary statistics can betray you when you're working with *only two variables!* Now thing about some of the real datasets you've worked with where you may have a dozen explanatory variables. "
   ]
  },
  {
   "cell_type": "markdown",
   "metadata": {},
   "source": [
    "So what should you take away from this? \n",
    "\n",
    "- First, never be too trusting of your data or your summary statistics. It takes forever to get a feel for real datasets, so explore, explore, explore. \n",
    "- Second, plot your data. Plotting is an incredibly information-rich, and is one of the best ways to diagnose problems in your data."
   ]
  }
 ],
 "metadata": {
  "kernelspec": {
   "display_name": "Python 3",
   "language": "python",
   "name": "python3"
  },
  "language_info": {
   "codemirror_mode": {
    "name": "ipython",
    "version": 3
   },
   "file_extension": ".py",
   "mimetype": "text/x-python",
   "name": "python",
   "nbconvert_exporter": "python",
   "pygments_lexer": "ipython3",
   "version": "3.7.3"
  }
 },
 "nbformat": 4,
 "nbformat_minor": 4
}
