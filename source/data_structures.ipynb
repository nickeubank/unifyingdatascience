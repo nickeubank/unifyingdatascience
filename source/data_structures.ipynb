{
 "cells": [
  {
   "cell_type": "markdown",
   "metadata": {},
   "source": [
    "# Data Structures\n",
    "\n",
    "Why do we have so many ways of gathering collections of things?\n",
    "\n",
    "\n",
    "> I [...] claim that the difference between a bad programmer and a good one is whether he considers his code or his data structures more important. \n",
    "\n",
    "Linus Torvalds\n",
    "\n",
    "> Smart data structures and dumb code works a lot better than the other way around. \n",
    "\n",
    "Eric S. Raymond, The Cathedral and The Bazaar\n",
    "\n",
    "\n",
    "## What data structures exist?\n",
    "\n",
    "- Arrays / Vectors:\n",
    "- Lists: \n",
    "- Dictionaries: (also sometimes called \"maps\") \n",
    "- Sets: \n",
    "\n"
   ]
  },
  {
   "cell_type": "markdown",
   "metadata": {},
   "source": [
    "## Relative merits\n",
    "\n",
    "|Type      | Adding to Start | Adding to End | Adding to Middle | Lookup from Start | Lookup from End | Lookup from Middle | Finding Value |\n",
    "|----------|-----------------|---------------|------------------|-------------------|-----------------|--------------------|---------------|\n",
    "|Array     |  Slow           | Fast          | Slow             | Fastest           | Fastest         | Fastest            | Slow          |\n",
    "|List      | Fast            | Fast          | Fast             | Fast              | Fast            | Slow               | Slow          |\n",
    "|Dictionary| Fast            |  Fast         | Fast             | Fast              |Fast             | Fast               | Slow          |\n",
    "|Set       | Fast            |  Fast         | Fast             | Fast              |Fast             |Fast                | Fast          |\n",
    "\n"
   ]
  },
  {
   "cell_type": "markdown",
   "metadata": {},
   "source": [
    "## Why do data structures differ so radically?"
   ]
  },
  {
   "cell_type": "code",
   "execution_count": null,
   "metadata": {},
   "outputs": [],
   "source": []
  }
 ],
 "metadata": {
  "kernelspec": {
   "display_name": "Python 3",
   "language": "python",
   "name": "python3"
  },
  "language_info": {
   "codemirror_mode": {
    "name": "ipython",
    "version": 3
   },
   "file_extension": ".py",
   "mimetype": "text/x-python",
   "name": "python",
   "nbconvert_exporter": "python",
   "pygments_lexer": "ipython3",
   "version": "3.5.5"
  }
 },
 "nbformat": 4,
 "nbformat_minor": 2
}
