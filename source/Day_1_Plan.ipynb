{
 "cells": [
  {
   "cell_type": "markdown",
   "metadata": {},
   "source": [
    "0) Data Science questionnaire\n",
    "\n",
    "1) What is data science?\n",
    "\n",
    "2) History of data science\n",
    "\n",
    "3) SWE / Analysis split\n",
    "\n",
    "4) Wrangling and Analysis\n",
    "\n",
    "5) We'll focus on analysis / wrangling. Why? About me!\n",
    "\n",
    "6) Class structure and expectations. "
   ]
  }
 ],
 "metadata": {
  "kernelspec": {
   "display_name": "Python 3",
   "language": "python",
   "name": "python3"
  },
  "language_info": {
   "codemirror_mode": {
    "name": "ipython",
    "version": 3
   },
   "file_extension": ".py",
   "mimetype": "text/x-python",
   "name": "python",
   "nbconvert_exporter": "python",
   "pygments_lexer": "ipython3",
   "version": "3.7.3"
  }
 },
 "nbformat": 4,
 "nbformat_minor": 4
}
