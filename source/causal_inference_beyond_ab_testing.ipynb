{
 "cells": [
  {
   "cell_type": "markdown",
   "metadata": {},
   "source": [
    "# Causal Inference in Industry Beyond AB Testing"
   ]
  },
  {
   "cell_type": "markdown",
   "metadata": {},
   "source": [
    "caveat: industry data usually isn't available!\n",
    "\n",
    "\n",
    "## AB Testing Isn't Always Feasible\n",
    "\n",
    "- you can't force users at twitter to follow a certain person / force a certain person to tweet something. Not all treatments are under your control\n",
    "- Some things are one offs: Super Bowl ads!\n",
    "- You can't randomize prices (if everyone saw different prices people would be furious)\n",
    "- People don't like being experimented on\n",
    "  - https://www.nytimes.com/2014/07/29/technology/okcupid-publishes-findings-of-user-experiments.html\n",
    "  - https://www.theatlantic.com/technology/archive/2014/06/everything-we-know-about-facebooks-secret-mood-manipulation-experiment/373648/\n",
    "- Sometimes it's not legal: you can't offer different benefits to different people in the same class of unionized workers\n",
    "- sometimes we don't want average treatment effects, we want the effective and actual individual! \"at risk contracts\" (payments based on output). But if you just do a pre/post and don't adjust for things like seasonalities...\n",
    "\n",
    "ML doesn't think about counterfactuals.\n",
    "\n",
    "- counterfactual advertising\n",
    "\n",
    "Other people are going to present observational data and you not only have to understand why certain interpretations are incorrect, you also have to be able to explain why it's wrong to other people.\n",
    "\n",
    "## AB Testing Is Unethical\n",
    "\n"
   ]
  },
  {
   "cell_type": "markdown",
   "metadata": {},
   "source": []
  }
 ],
 "metadata": {
  "language_info": {
   "name": "python"
  },
  "orig_nbformat": 4
 },
 "nbformat": 4,
 "nbformat_minor": 2
}
